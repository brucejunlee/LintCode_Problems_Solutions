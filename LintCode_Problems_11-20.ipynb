{
 "cells": [
  {
   "cell_type": "markdown",
   "metadata": {},
   "source": [
    "# [LintCode](https://www.lintcode.com/problem/) Problems"
   ]
  },
  {
   "cell_type": "markdown",
   "metadata": {},
   "source": [
    "## 11. Search Range in Binary Search Tree (Medium)\n",
    "\n",
    "**Description**\n",
    "\n",
    "Given two values k1 and k2 (where k1 < k2) and a root pointer to a Binary Search Tree(BST). Find all the keys of tree in range k1 to k2. i.e. print all x such that k1<=x<=k2 and x is a key of given BST. Return all the keys in ascending order.\n",
    "\n",
    "**Example**\n",
    "\n",
    "If k1 = 10 and k2 = 22, then your function should return [12, 20, 22].\n",
    "\n",
    "    \n",
    "![title](binary_tree_2.png)\n",
    "\n",
    "<u>**Solution**</u>\n"
   ]
  },
  {
   "cell_type": "markdown",
   "metadata": {},
   "source": [
    "+ **方法一**：暴力解法, DFS(Deep-First Search)遍历所有节点, 符合要求的加入result中, 最后对result进行排序, 返回."
   ]
  },
  {
   "cell_type": "code",
   "execution_count": 1,
   "metadata": {
    "collapsed": true
   },
   "outputs": [],
   "source": [
    "# Definition of TreeNode:\n",
    "class TreeNode:\n",
    "    def __init__(self, val):\n",
    "        self.val = val\n",
    "        self.left = None\n",
    "        self.right = None\n",
    "\n",
    "def dfs(root, start, end, result):\n",
    "    if root != None:\n",
    "        if root.val >= start and root.val <= end:\n",
    "            result.append(root.val)\n",
    "        dfs(root.left, start, end, result)\n",
    "        dfs(root.right, start, end, result)        \n",
    "\n",
    "def searchRange(root, k1, k2):\n",
    "    res = []\n",
    "    dfs(root, k1, k2, res)\n",
    "    return sorted(res)"
   ]
  },
  {
   "cell_type": "code",
   "execution_count": 2,
   "metadata": {
    "collapsed": true
   },
   "outputs": [],
   "source": [
    "root = TreeNode(20)\n",
    "r_l = TreeNode(8)\n",
    "r_r = TreeNode(22)\n",
    "root.left = r_l\n",
    "root.right = r_r\n",
    "r_l_l = TreeNode(4)\n",
    "r_l_r = TreeNode(12)\n",
    "r_l.left = r_l_l\n",
    "r_l.right = r_l_r"
   ]
  },
  {
   "cell_type": "code",
   "execution_count": 3,
   "metadata": {},
   "outputs": [
    {
     "name": "stdout",
     "output_type": "stream",
     "text": [
      "CPU times: user 37 µs, sys: 6 µs, total: 43 µs\n",
      "Wall time: 45.1 µs\n"
     ]
    },
    {
     "data": {
      "text/plain": [
       "[12, 20, 22]"
      ]
     },
     "execution_count": 3,
     "metadata": {},
     "output_type": "execute_result"
    }
   ],
   "source": [
    "k1 = 10\n",
    "k2 = 22\n",
    "%time searchRange(root, k1, k2)"
   ]
  },
  {
   "cell_type": "markdown",
   "metadata": {},
   "source": [
    "+ **方法二**：同样是DFS遍历, 但加入判断, 相当于剪枝.\n",
    "\n",
    "    + 如果root.val > start则可以继续左子树;\n",
    "    + 如果start <= root.val <= end则把root.val加入result;\n",
    "    + 如果root.val < end则可以继续右子树."
   ]
  },
  {
   "cell_type": "code",
   "execution_count": 4,
   "metadata": {
    "collapsed": true
   },
   "outputs": [],
   "source": [
    "# Definition of TreeNode:\n",
    "class TreeNode:\n",
    "    def __init__(self, val):\n",
    "        self.val = val\n",
    "        self.left = None\n",
    "        self.right = None\n",
    "\n",
    "def dfs(root, start, end, result):\n",
    "    if root != None:\n",
    "        if root.val > start:\n",
    "            dfs(root.left, start, end, result)\n",
    "        if root.val >= start and root.val <= end:\n",
    "            result.append(root.val)\n",
    "        if root.val < end:\n",
    "            dfs(root.right, start, end, result)        \n",
    "\n",
    "def searchRange(root, k1, k2):\n",
    "    res = []\n",
    "    dfs(root, k1, k2, res)\n",
    "    return sorted(res)"
   ]
  },
  {
   "cell_type": "code",
   "execution_count": 5,
   "metadata": {
    "collapsed": true
   },
   "outputs": [],
   "source": [
    "root = TreeNode(20)\n",
    "r_l = TreeNode(8)\n",
    "r_r = TreeNode(22)\n",
    "root.left = r_l\n",
    "root.right = r_r\n",
    "r_l_l = TreeNode(4)\n",
    "r_l_r = TreeNode(12)\n",
    "r_l.left = r_l_l\n",
    "r_l.right = r_l_r"
   ]
  },
  {
   "cell_type": "code",
   "execution_count": 6,
   "metadata": {},
   "outputs": [
    {
     "name": "stdout",
     "output_type": "stream",
     "text": [
      "CPU times: user 32 µs, sys: 1e+03 ns, total: 33 µs\n",
      "Wall time: 38.1 µs\n"
     ]
    },
    {
     "data": {
      "text/plain": [
       "[12, 20, 22]"
      ]
     },
     "execution_count": 6,
     "metadata": {},
     "output_type": "execute_result"
    }
   ],
   "source": [
    "k1 = 10\n",
    "k2 = 22\n",
    "%time searchRange(root, k1, k2)"
   ]
  },
  {
   "cell_type": "markdown",
   "metadata": {},
   "source": [
    "## 12. Min Stack (Medium)\n",
    "\n",
    "**Description**\n",
    "\n",
    "Implement a stack with min() function, which will return the smallest number in the stack.\n",
    "\n",
    "It should support push, pop and min operation all in O(1) cost.\n",
    "\n",
    "ⓘ min operation will never be called if there is no number in the stack.\n",
    "\n",
    "**Example **\n",
    "\n",
    "```\n",
    "push(1)\n",
    "pop()   // return 1\n",
    "push(2)\n",
    "push(3)\n",
    "min()   // return 2\n",
    "push(1)\n",
    "min()   // return 1\n",
    "```\n",
    "\n",
    "**Solution**\n"
   ]
  },
  {
   "cell_type": "markdown",
   "metadata": {},
   "source": [
    "> 这里补充介绍栈与队列:\n",
    "\n",
    "    1. 栈(stack)是一种只能通过访问其一端来实现数据存储与检索的线性数据结构, 具有后进先出(Last In First Out, LIFO)的特征;\n",
    "    2. 队列(queue)是一种具有先进先出(First In First Out, FIFO)特征的线性数据结构, 元素的增加只能在一端进行, 元素的删除只能在另一端进行. 能够增加元素的队列一端称为队尾, 可以删除元素的队列一端则称为队首."
   ]
  },
  {
   "cell_type": "code",
   "execution_count": 7,
   "metadata": {},
   "outputs": [
    {
     "name": "stdout",
     "output_type": "stream",
     "text": [
      "[3, 4, 5]\n",
      "[3, 4, 5, 6]\n",
      "[3, 4, 5, 6, 7]\n",
      "[3, 4, 5, 6]\n",
      "[3, 4, 5]\n"
     ]
    }
   ],
   "source": [
    "stack = [3, 4, 5]\n",
    "print stack\n",
    "stack.append(6)\n",
    "print stack\n",
    "stack.append(7)\n",
    "print stack\n",
    "stack.pop()\n",
    "print stack\n",
    "stack.pop()\n",
    "print stack"
   ]
  },
  {
   "cell_type": "code",
   "execution_count": 8,
   "metadata": {},
   "outputs": [
    {
     "name": "stdout",
     "output_type": "stream",
     "text": [
      "0\n",
      "1\n",
      "2\n",
      "3\n",
      "4\n",
      "5\n",
      "Eric\n",
      "4\n",
      "John\n",
      "3\n"
     ]
    }
   ],
   "source": [
    "from Queue import Queue\n",
    "queue = Queue()\n",
    "print queue.qsize()\n",
    "queue.put(\"Eric\")\n",
    "print queue.qsize()\n",
    "queue.put(\"John\")\n",
    "print queue.qsize()\n",
    "queue.put(\"Michael\")\n",
    "print queue.qsize()\n",
    "queue.put(\"Terry\")\n",
    "print queue.qsize()\n",
    "queue.put(\"Graham\")\n",
    "print queue.qsize()\n",
    "print queue.get()\n",
    "print queue.qsize()\n",
    "print queue.get()\n",
    "print queue.qsize()"
   ]
  },
  {
   "cell_type": "markdown",
   "metadata": {},
   "source": [
    "+ **方法1**: 常规解\n",
    "\n",
    "利用两个栈结构, 其中一个是主要的正常stack, 满足pop(), push()的O(1)时间要求, 另外一个作为辅助的minStack, 仅存入min的integer. 每当在stack中push数据后, 与minStack中的栈顶元素比较, 如果新值较小, 则在minStack中push新值; 否则再次push栈顶元素.\n",
    "\n",
    "pop的时候, 只要将minStack也pop一下就行了.\n",
    "\n",
    "这样, min函数只需要返回minStack的栈顶元素即可.\n",
    "\n",
    "题中的例子, 最终stack为[2, 3, 1], minStack为 [2, 1]."
   ]
  },
  {
   "cell_type": "code",
   "execution_count": 9,
   "metadata": {
    "collapsed": true
   },
   "outputs": [],
   "source": [
    "def push(number):\n",
    "    stack.append(number)\n",
    "    if len(minStack) == 0 or minStack[-1] >= number:\n",
    "        minStack.append(number)\n",
    "\n",
    "def pop():\n",
    "    if len(stack) == 0:\n",
    "        return -1\n",
    "    t1 = stack.pop()\n",
    "    if len(minStack) != 0 and minStack[-1] == t1:\n",
    "        minStack.pop()\n",
    "    return t1\n",
    "\n",
    "def min():\n",
    "    if len(minStack) != 0:\n",
    "        return minStack[-1]\n",
    "    return -1"
   ]
  },
  {
   "cell_type": "code",
   "execution_count": 10,
   "metadata": {
    "collapsed": true
   },
   "outputs": [],
   "source": [
    "stack = []\n",
    "minStack = []"
   ]
  },
  {
   "cell_type": "code",
   "execution_count": 11,
   "metadata": {},
   "outputs": [
    {
     "name": "stdout",
     "output_type": "stream",
     "text": [
      "CPU times: user 6 µs, sys: 1e+03 ns, total: 7 µs\n",
      "Wall time: 11.2 µs\n",
      "[1]\n",
      "[1]\n",
      "CPU times: user 20 µs, sys: 4 µs, total: 24 µs\n",
      "Wall time: 39.1 µs\n",
      "[]\n",
      "[]\n",
      "CPU times: user 8 µs, sys: 1 µs, total: 9 µs\n",
      "Wall time: 12.2 µs\n",
      "[2]\n",
      "[2]\n",
      "CPU times: user 25 µs, sys: 11 µs, total: 36 µs\n",
      "Wall time: 52 µs\n",
      "[2, 3]\n",
      "[2]\n",
      "CPU times: user 5 µs, sys: 3 µs, total: 8 µs\n",
      "Wall time: 9.06 µs\n",
      "2\n",
      "CPU times: user 6 µs, sys: 1 µs, total: 7 µs\n",
      "Wall time: 10 µs\n",
      "[2, 3, 1]\n",
      "[2, 1]\n",
      "CPU times: user 7 µs, sys: 5 µs, total: 12 µs\n",
      "Wall time: 12.9 µs\n",
      "1\n"
     ]
    }
   ],
   "source": [
    "%time push(1)\n",
    "print stack\n",
    "print minStack\n",
    "%time pop()\n",
    "print stack\n",
    "print minStack\n",
    "%time push(2)\n",
    "print stack\n",
    "print minStack\n",
    "%time push(3)\n",
    "print stack\n",
    "print minStack\n",
    "%time min1 = min()\n",
    "print min1\n",
    "%time push(1)\n",
    "print stack\n",
    "print minStack\n",
    "%time min2 = min()\n",
    "print min2"
   ]
  },
  {
   "cell_type": "markdown",
   "metadata": {},
   "source": [
    "+ **方法2**: 一种优化\n",
    "\n",
    "一般来说, 最小值不会每次都需要更新, 因此minStack里面会有很多重复元素. 因此一个简单的优化就是在新值只当<=原最小值时才push到minStack, 注意这个==的条件是不可少的, 这是为了防止在pop的时候错误地pop最小值. pop的是, 当待pop值==最小值时pop minStack, 其它时候不对minStack进行pop."
   ]
  },
  {
   "cell_type": "code",
   "execution_count": 12,
   "metadata": {
    "collapsed": true
   },
   "outputs": [],
   "source": [
    "import numpy as np"
   ]
  },
  {
   "cell_type": "code",
   "execution_count": 13,
   "metadata": {
    "collapsed": true
   },
   "outputs": [],
   "source": [
    "class MinStack:\n",
    "    \n",
    "    def __init__(self, stack, mn):\n",
    "        self.stack = stack\n",
    "        self.mn = mn\n",
    "    \n",
    "    def push(self, number):\n",
    "        if number <= self.mn:\n",
    "            self.stack.append(number)\n",
    "            self.mn = number\n",
    "        else:\n",
    "            self.stack.append(number)\n",
    "\n",
    "    def pop(self):\n",
    "        t1 = self.stack[-1]\n",
    "        if t1 == self.mn:\n",
    "            self.stack.pop()\n",
    "            self.mn = np.inf\n",
    "        return t1\n",
    "\n",
    "    def min(self):\n",
    "        return self.mn   "
   ]
  },
  {
   "cell_type": "code",
   "execution_count": 14,
   "metadata": {
    "collapsed": true
   },
   "outputs": [],
   "source": [
    "ms = MinStack([], np.inf)"
   ]
  },
  {
   "cell_type": "code",
   "execution_count": 15,
   "metadata": {},
   "outputs": [
    {
     "name": "stdout",
     "output_type": "stream",
     "text": [
      "CPU times: user 6 µs, sys: 1 µs, total: 7 µs\n",
      "Wall time: 11 µs\n",
      "[1]\n",
      "1\n",
      "CPU times: user 7 µs, sys: 1e+03 ns, total: 8 µs\n",
      "Wall time: 11 µs\n",
      "[]\n",
      "inf\n",
      "CPU times: user 7 µs, sys: 1e+03 ns, total: 8 µs\n",
      "Wall time: 12.2 µs\n",
      "[2]\n",
      "2\n",
      "CPU times: user 8 µs, sys: 2 µs, total: 10 µs\n",
      "Wall time: 11.9 µs\n",
      "[2, 3]\n",
      "2\n",
      "CPU times: user 9 µs, sys: 8 µs, total: 17 µs\n",
      "Wall time: 33.1 µs\n",
      "2\n",
      "CPU times: user 8 µs, sys: 0 ns, total: 8 µs\n",
      "Wall time: 14.1 µs\n",
      "[2, 3, 1]\n",
      "1\n",
      "CPU times: user 8 µs, sys: 1e+03 ns, total: 9 µs\n",
      "Wall time: 14.1 µs\n",
      "1\n"
     ]
    }
   ],
   "source": [
    "%time ms.push(1)\n",
    "print ms.stack\n",
    "print ms.mn\n",
    "%time ms.pop()\n",
    "print ms.stack\n",
    "print ms.mn\n",
    "%time ms.push(2)\n",
    "print ms.stack\n",
    "print ms.mn\n",
    "%time ms.push(3)\n",
    "print ms.stack\n",
    "print ms.mn\n",
    "%time min1 = ms.min()\n",
    "print min1\n",
    "%time ms.push(1)\n",
    "print ms.stack\n",
    "print ms.mn\n",
    "%time min2 = ms.min()\n",
    "print min2"
   ]
  },
  {
   "cell_type": "markdown",
   "metadata": {},
   "source": [
    "## 13. Implement strStr() (Easy)\n",
    "\n",
    "**Description**\n",
    "\n",
    "For a given source string and a target string, you should output the first index(from 0) of target string in source string.\n",
    "\n",
    "If target does not exist in source, just return -1.\n",
    "\n",
    "**Clarification**\n",
    "\n",
    "Do I need to implement **KMP Algorithm** in a real interview?\n",
    "\n",
    "**Not necessary**. When you meet this problem in a real interview, the interviewer may just want to test your basic implementation ability. But make sure you confirm with the interviewer first.\n",
    "\n",
    "**Example**\n",
    "\n",
    "If source = \"source\" and target = \"target\", return -1.\n",
    "\n",
    "If source = \"abcdabcdefg\" and target = \"bcd\", return 1.\n",
    "\n",
    "**Challenge**\n",
    "\n",
    "O($n^2$) is acceptable. Can you implement an O(n) algorithm? (hint: **KMP**)\n",
    "\n",
    "<u>**Solution**</u>\n"
   ]
  },
  {
   "cell_type": "markdown",
   "metadata": {},
   "source": [
    "+ **方法1**: 容易实现, 但时间复杂度不满足要求\n",
    "\n",
    "这道题让我们在一个字符串中找另一个字符串第一次出现的位置, 那我们首先做一些判断, 如果子字符串为空, 则返回0; 如果子字符串长度大于母字符串长度, 则返回-1. 然后我们开始遍历母字符串, 我们并不需要遍历整个母字符串, 而是遍历到剩下的长度和子字符串相等的位置即可, 这样可以提高运算效率. 然后对于每一个字符, 我们都遍历一遍子字符串, 一个一个字符地对应比较, 如果对应位置有不等的, 则跳出循环; 如果一直都没有跳出循环, 则说明子字符串出现了, 则返回起始位置即可."
   ]
  },
  {
   "cell_type": "code",
   "execution_count": 16,
   "metadata": {
    "collapsed": true
   },
   "outputs": [],
   "source": [
    "# 时间复杂度O(m*n)\n",
    "def strStr(string, substr):\n",
    "    m = len(string)\n",
    "    n = len(substr)\n",
    "    if n == 0:\n",
    "        return 0\n",
    "    if m < n:\n",
    "        return -1\n",
    "    for i in range(m - n):\n",
    "        ptr = 0\n",
    "        for j in range(n):\n",
    "            if string[i + j] != substr[j]:\n",
    "                break\n",
    "            ptr += 1\n",
    "        if ptr == n:\n",
    "            return i\n",
    "    return -1"
   ]
  },
  {
   "cell_type": "code",
   "execution_count": 17,
   "metadata": {},
   "outputs": [
    {
     "name": "stdout",
     "output_type": "stream",
     "text": [
      "CPU times: user 9 µs, sys: 1e+03 ns, total: 10 µs\n",
      "Wall time: 16.9 µs\n",
      "-1\n",
      "CPU times: user 10 µs, sys: 1e+03 ns, total: 11 µs\n",
      "Wall time: 15 µs\n",
      "1\n"
     ]
    }
   ],
   "source": [
    "source = 'source'\n",
    "target = 'target'\n",
    "%time idx = strStr(source, target)\n",
    "print idx\n",
    "source = 'abcdabcdefg'\n",
    "target = 'bcd'\n",
    "%time idx = strStr(source, target)\n",
    "print idx"
   ]
  },
  {
   "cell_type": "markdown",
   "metadata": {},
   "source": [
    "+ **方法2**: Rabin–Karp 算法, 即Hash查找\n",
    "\n",
    "[Rabin–Karp algorithm](https://en.wikipedia.org/wiki/Rabin–Karp_algorithm): 是计算机科学中通过hash的方法用于在一个大量文本中查找一个固定长度的字符串的算法(**模式查找**).\n",
    "\n",
    "从**方法1**中我们可知, 要想确定string中是否存在substr, 必须完全比较substr的所有字符. 那么有没有可能利用上一次比较的结果, 仅添加O(1)的时间. **基本思想是**: 用一个hash code表示一个字符串, 为了保证hash的唯一性, 我们用比字符集大的**素数**为底, 以这个素数的幂为基.\n",
    "\n",
    "**例如**: 小写字母集, 选择素数29为底, 如字符串”abcd”的hash code为\n",
    "\n",
    "$$hash = 1 \\times 29^0+2 \\times 29^1+3 \\times 29^2 + 4 \\times 29^3$$\n",
    " \n",
    "那么下一步计算字符串”bcde”的hash code为\n",
    "\n",
    "$$hash = hash / 29 + 5 \\times 29^3$$\n",
    "\n",
    "这一计算过程是O(1)常量的操作, 那么检测所有子串所需的时间复杂度是O(n+(m-n)) = O(m)是一个线性算法([Rolling hash](https://en.wikipedia.org/wiki/Rolling_hash))\n",
    "\n",
    "**Note**: 例子中是**正序**计算的hash code, 以下程序中使用是**倒序**计算的hash code, 即 \n",
    "\n",
    "$$hash('abcd') = 4 \\times 29^0 + 3 \\times 29^1 + 2 \\times 29^2 + 1 \\times 29^3$$\n",
    "\n",
    "类似进制转换\n",
    "\n",
    "$$hash('bcde') = (hash('abcd') - 1 \\times 29^3) \\times 29 + 5$$"
   ]
  },
  {
   "cell_type": "markdown",
   "metadata": {},
   "source": [
    "> 这里补充**Python**环境下字母与**ASCII**码转换:\n",
    "\n",
    "    1. ord(c): 参数c是长度为1的字符串, 简称字符. 当参数为统一对象(unicode object)时, 返回能代表该字符的统一编码, 当参数为8比特的字符串时, 返回该字节的值. 例如, ord('a')返回整型数值97, ord(u'\\u2020')返回8224.\n",
    "    2. chr(i): 返回一个字符, 字符的ASCII码等于参数中的整型数值i. 例如chr(97)返回字符'a', 该方法是ord()的反方法. 参数必须是0-255的整型数值, 否则会抛出ValueError."
   ]
  },
  {
   "cell_type": "code",
   "execution_count": 18,
   "metadata": {},
   "outputs": [
    {
     "name": "stdout",
     "output_type": "stream",
     "text": [
      "97\n",
      "8224\n",
      "a\n"
     ]
    }
   ],
   "source": [
    "print ord('a')\n",
    "print ord(u'\\u2020')\n",
    "print chr(97)"
   ]
  },
  {
   "cell_type": "code",
   "execution_count": 19,
   "metadata": {
    "collapsed": true
   },
   "outputs": [],
   "source": [
    "def charToInt(c):\n",
    "    return ord(c) - ord('a') + 1\n",
    "\n",
    "# 时间复杂度 O(n+(m-n)) = O(m)\n",
    "def strStr(string, substr):\n",
    "    m = len(string)\n",
    "    n = len(substr)\n",
    "    if n == 0:\n",
    "        return 0\n",
    "    if m < n:\n",
    "        return -1\n",
    "    base = 29\n",
    "    max_base = 1\n",
    "    substr_code = 0\n",
    "    string_code = 0\n",
    "    for j in range(n - 1, -1, -1):\n",
    "        substr_code += charToInt(substr[j]) * max_base\n",
    "        string_code += charToInt(string[j]) * max_base\n",
    "        max_base *= base\n",
    "    max_base /= base # substr的最大基\n",
    "    if string_code == substr_code:\n",
    "        return 0\n",
    "    for i in range(n, m):\n",
    "        string_code = (string_code - charToInt(string[i - n]) * max_base) * base + charToInt(string[i])\n",
    "        if string_code == substr_code:\n",
    "            return i - n + 1\n",
    "    return -1"
   ]
  },
  {
   "cell_type": "code",
   "execution_count": 20,
   "metadata": {},
   "outputs": [
    {
     "name": "stdout",
     "output_type": "stream",
     "text": [
      "CPU times: user 17 µs, sys: 0 ns, total: 17 µs\n",
      "Wall time: 21 µs\n",
      "-1\n",
      "CPU times: user 18 µs, sys: 2 µs, total: 20 µs\n",
      "Wall time: 25 µs\n",
      "1\n"
     ]
    }
   ],
   "source": [
    "source = 'source'\n",
    "target = 'target'\n",
    "%time idx = strStr(source, target)\n",
    "print idx\n",
    "source = 'abcdabcdefg'\n",
    "target = 'bcd'\n",
    "%time idx = strStr(source, target)\n",
    "print idx"
   ]
  },
  {
   "cell_type": "markdown",
   "metadata": {},
   "source": [
    "+ **更多方法**：\n",
    "    + [KMP字符串搜索算法](https://en.wikipedia.org/wiki/Knuth–Morris–Pratt_algorithm)\n",
    "    + [Boyer-Moore字符串搜索算法](https://en.wikipedia.org/wiki/Boyer–Moore_string_search_algorithm)"
   ]
  },
  {
   "cell_type": "markdown",
   "metadata": {},
   "source": [
    "## 14. First Position of Target (Easy)\n",
    "\n",
    "**Description**\n",
    "\n",
    "For a given sorted array (ascending order) and a target number, find the first index of this number in O(log n) time complexity.\n",
    "\n",
    "If the target number does not exist in the array, return -1.\n",
    "\n",
    "**Example**\n",
    "\n",
    "If the array is [1, 2, 3, 3, 4, 5, 10], for given target 3, return 2.\n",
    "\n",
    "**Challenge**\n",
    "\n",
    "If the count of numbers is bigger than 2^32, can your code work properly?\n",
    "\n",
    "<u>**Solution**</u>\n"
   ]
  },
  {
   "cell_type": "markdown",
   "metadata": {},
   "source": [
    "+ **方法1**: 搜索**左闭右闭**区间(二分查找)\n",
    "\n",
    "注意求中间值尽量避免使用$\\frac{l + r}{2}$, 因为l+r可能会溢出;\n",
    "\n",
    "所以尽量用$l + \\frac{r - l}{2}$求中间值."
   ]
  },
  {
   "cell_type": "code",
   "execution_count": 21,
   "metadata": {
    "collapsed": true
   },
   "outputs": [],
   "source": [
    "def binarySearch(nums, target):\n",
    "    l = 0\n",
    "    r = len(nums) - 1\n",
    "    while l <= r:\n",
    "        mid = l + (r - l) / 2\n",
    "        if target == nums[mid]:\n",
    "            if mid == 0:\n",
    "                return mid\n",
    "            elif nums[mid] != nums[mid - 1]:\n",
    "                return mid\n",
    "            else:\n",
    "                r = mid - 1\n",
    "        elif target < nums[mid]:\n",
    "            r = mid - 1\n",
    "        else:\n",
    "            l = mid + 1\n",
    "    return -1"
   ]
  },
  {
   "cell_type": "code",
   "execution_count": 22,
   "metadata": {},
   "outputs": [
    {
     "name": "stdout",
     "output_type": "stream",
     "text": [
      "CPU times: user 6 µs, sys: 1 µs, total: 7 µs\n",
      "Wall time: 11 µs\n"
     ]
    },
    {
     "data": {
      "text/plain": [
       "2"
      ]
     },
     "execution_count": 22,
     "metadata": {},
     "output_type": "execute_result"
    }
   ],
   "source": [
    "nums = [1, 2, 3, 3, 4, 5, 10]\n",
    "target = 3\n",
    "%time binarySearch(nums, target)"
   ]
  },
  {
   "cell_type": "markdown",
   "metadata": {},
   "source": [
    "+ **方法2**: 搜索**左闭右开**空间"
   ]
  },
  {
   "cell_type": "code",
   "execution_count": 23,
   "metadata": {
    "collapsed": true
   },
   "outputs": [],
   "source": [
    "def binarySearch(nums, target):\n",
    "    l = 0\n",
    "    r = len(nums)\n",
    "    while l < r:\n",
    "        mid = l + (r - l) / 2\n",
    "        if target <= nums[mid]:\n",
    "            r = mid\n",
    "        else:\n",
    "            l = mid + 1\n",
    "    if nums[l] == target:\n",
    "        return l\n",
    "    return -1"
   ]
  },
  {
   "cell_type": "code",
   "execution_count": 24,
   "metadata": {},
   "outputs": [
    {
     "name": "stdout",
     "output_type": "stream",
     "text": [
      "CPU times: user 9 µs, sys: 2 µs, total: 11 µs\n",
      "Wall time: 15 µs\n"
     ]
    },
    {
     "data": {
      "text/plain": [
       "2"
      ]
     },
     "execution_count": 24,
     "metadata": {},
     "output_type": "execute_result"
    }
   ],
   "source": [
    "nums = [1, 2, 3, 3, 4, 5, 10]\n",
    "target = 3\n",
    "%time binarySearch(nums, target)"
   ]
  },
  {
   "cell_type": "markdown",
   "metadata": {},
   "source": [
    "## 15. Permutations (Medium)\n",
    "\n",
    "**Description**\n",
    "\n",
    "Given a list of numbers, return all possible permutations.\n",
    "\n",
    "ⓘ You can assume that there is no duplicate numbers in the list.\n",
    "\n",
    "**Example**\n",
    "\n",
    "For nums = [1, 2, 3], the permutations are:\n",
    "\n",
    "```\n",
    "[\n",
    "  [1, 2, 3],\n",
    "  [1, 3, 2],\n",
    "  [2, 1, 3],\n",
    "  [2, 3, 1],\n",
    "  [3, 1, 2],\n",
    "  [3, 2, 1]\n",
    "]\n",
    "```\n",
    "\n",
    "**Challenge**\n",
    "\n",
    "Do it without recursion.\n",
    "\n",
    "<u>**Solution**</u>\n"
   ]
  },
  {
   "cell_type": "markdown",
   "metadata": {
    "collapsed": true
   },
   "source": [
    "+ **方法1**: \n",
    "\n",
    "全排列是将一组数按一定顺序进行排列, 如果这组数有n个, 那么全排列数为n!个. 现以[1, 2, 3, 4, 5]为例说明如何编写全排列的递归算法.\n",
    "\n",
    "1. 首先看最后两个数4, 5. 它们的全排列为4 5和5 4, 即以4开头的5的全排列和以5开头的4的全排列. 由于一个数的全排列就是其本身, 从而得到以上结果.\n",
    "\n",
    "2. 再看后三个数3, 4, 5. 它们的全排列为3 4 5, 3 5 4, 4 3 5, 4 5 3, 5 3 4, 5 4 3六组数. 即以3开头的4, 5的全排列的组合, 以4开头的3, 5的全排列的组合和以5开头的3, 4的全排列的组合.\n",
    "\n",
    "可以推断, \n",
    "\n",
    "设一组数p = [r1, r2, r3, ..., rn], 全排列为perm(p), pn = p - [rn]. 因此perm(p) = r1 perm(p1), r2 perm(p2), r3 perm(p3), ..., rn perm(pn). 当n = 1时, perm(p) = r1. 为了更易理解, 我们将整组数中所有的数分别与第一个数交换, 这样就总是在处理后n-1个数的全排列."
   ]
  },
  {
   "cell_type": "code",
   "execution_count": 25,
   "metadata": {
    "collapsed": true
   },
   "outputs": [],
   "source": [
    "def dfs(res, nums, j):\n",
    "    n = len(nums)\n",
    "    if j == n:\n",
    "        tmp = []\n",
    "        for num in nums:\n",
    "            tmp.append(num)\n",
    "        res.append(tmp)\n",
    "    for i in range(j, n):\n",
    "        nums[i], nums[j] = nums[j], nums[i]\n",
    "        dfs(res, nums, j + 1)\n",
    "        nums[i], nums[j] = nums[j], nums[i]\n",
    "\n",
    "def permute(nums):\n",
    "    res = []\n",
    "    tmp = []\n",
    "    dfs(res, nums, 0)\n",
    "    return res"
   ]
  },
  {
   "cell_type": "code",
   "execution_count": 26,
   "metadata": {},
   "outputs": [
    {
     "name": "stdout",
     "output_type": "stream",
     "text": [
      "CPU times: user 62 µs, sys: 1e+03 ns, total: 63 µs\n",
      "Wall time: 74.1 µs\n"
     ]
    },
    {
     "data": {
      "text/plain": [
       "[[1, 2, 3], [1, 3, 2], [2, 1, 3], [2, 3, 1], [3, 2, 1], [3, 1, 2]]"
      ]
     },
     "execution_count": 26,
     "metadata": {},
     "output_type": "execute_result"
    }
   ],
   "source": [
    "nums = [1, 2, 3]\n",
    "%time permute(nums)"
   ]
  },
  {
   "cell_type": "markdown",
   "metadata": {},
   "source": [
    "+ **方法2**: 回溯算法|递归实现\n",
    "\n",
    "这种方法和**方法1**的区别是: **方法1**采用位置两两交换, 交换后出现一种新的组合, 将这种新的组合添加到中间集, 再添加到结果集中; 而这种方法是采用逐一向中间集添加元素, 并当中间集元素个数等于nums长度的时候, 将中间集添加到结果集中, 并终止该层递归."
   ]
  },
  {
   "cell_type": "code",
   "execution_count": 27,
   "metadata": {
    "collapsed": true
   },
   "outputs": [],
   "source": [
    "def dfs(res, tmp, nums, used):\n",
    "    t = len(tmp)\n",
    "    n = len(nums)\n",
    "    if t == n:\n",
    "        res.append(tmp)\n",
    "        return \n",
    "    for i in range(n):\n",
    "        if used[i] != True:\n",
    "            used[i] = True\n",
    "            tmp = tmp + [nums[i]]\n",
    "            dfs(res, tmp, nums, used)\n",
    "            tmp = tmp[:-1]\n",
    "            used[i] = False\n",
    "\n",
    "def permute(nums):\n",
    "    res = []\n",
    "    n = len(nums)\n",
    "    tmp = []\n",
    "    dfs(res, tmp, nums, [False] * n)\n",
    "    return res"
   ]
  },
  {
   "cell_type": "code",
   "execution_count": 28,
   "metadata": {},
   "outputs": [
    {
     "name": "stdout",
     "output_type": "stream",
     "text": [
      "CPU times: user 53 µs, sys: 1 µs, total: 54 µs\n",
      "Wall time: 62 µs\n"
     ]
    },
    {
     "data": {
      "text/plain": [
       "[[1, 2, 3], [1, 3, 2], [2, 1, 3], [2, 3, 1], [3, 1, 2], [3, 2, 1]]"
      ]
     },
     "execution_count": 28,
     "metadata": {},
     "output_type": "execute_result"
    }
   ],
   "source": [
    "nums = [1, 2, 3]\n",
    "%time permute(nums)"
   ]
  },
  {
   "cell_type": "markdown",
   "metadata": {},
   "source": [
    "+ **方法3**: 非递归实现\n",
    "\n",
    "假设我们有了当前前i个元素的组合, 当第i+1个元素加入时, 我们需要做的是将这个元素加入之前的每一个结果, 并且放在每个结果的每个位置, 因为之前的结果没有重复, 所以加入新元素的结果也不会有重复(这里是假定数字集合没有重复)."
   ]
  },
  {
   "cell_type": "code",
   "execution_count": 29,
   "metadata": {
    "collapsed": true
   },
   "outputs": [],
   "source": [
    "def permute(nums):\n",
    "    res = []\n",
    "    first = []\n",
    "    first.append(nums[0])\n",
    "    res.append(first)\n",
    "    n = len(nums)\n",
    "    for i in range(1, n):\n",
    "        newRes = []\n",
    "        for tmp in res:\n",
    "            size = len(tmp) + 1\n",
    "            for j in range(size):\n",
    "                item = tmp[:j] + [nums[i]] + tmp[j:]\n",
    "                newRes.append(item)\n",
    "        res = newRes\n",
    "    return res"
   ]
  },
  {
   "cell_type": "code",
   "execution_count": 30,
   "metadata": {},
   "outputs": [
    {
     "name": "stdout",
     "output_type": "stream",
     "text": [
      "CPU times: user 47 µs, sys: 1 µs, total: 48 µs\n",
      "Wall time: 57.9 µs\n"
     ]
    },
    {
     "data": {
      "text/plain": [
       "[[3, 2, 1], [2, 3, 1], [2, 1, 3], [3, 1, 2], [1, 3, 2], [1, 2, 3]]"
      ]
     },
     "execution_count": 30,
     "metadata": {},
     "output_type": "execute_result"
    }
   ],
   "source": [
    "nums = [1, 2, 3]\n",
    "%time permute(nums)"
   ]
  },
  {
   "cell_type": "markdown",
   "metadata": {},
   "source": [
    "+ **方法4**:\n",
    "\n",
    "对**方法3**的一种优化"
   ]
  },
  {
   "cell_type": "code",
   "execution_count": 31,
   "metadata": {
    "collapsed": true
   },
   "outputs": [],
   "source": [
    "def permute(nums):\n",
    "    res = []\n",
    "    n = len(nums)\n",
    "    if n == 0 or nums == None:\n",
    "        return res\n",
    "    List = []\n",
    "    List.append(nums[0])\n",
    "    res.append(List)\n",
    "    for i in range(1, n):\n",
    "        size = len(res)\n",
    "        for j in range(size):\n",
    "            size2 = len(res[0])\n",
    "            for k in range(size2 + 1):\n",
    "                tmp = res[0][:k] + [nums[i]] + res[0][k:]\n",
    "                res.append(tmp)\n",
    "            res = res[1:]\n",
    "    return res"
   ]
  },
  {
   "cell_type": "code",
   "execution_count": 32,
   "metadata": {},
   "outputs": [
    {
     "name": "stdout",
     "output_type": "stream",
     "text": [
      "CPU times: user 40 µs, sys: 1 µs, total: 41 µs\n",
      "Wall time: 47.9 µs\n"
     ]
    },
    {
     "data": {
      "text/plain": [
       "[[3, 2, 1], [2, 3, 1], [2, 1, 3], [3, 1, 2], [1, 3, 2], [1, 2, 3]]"
      ]
     },
     "execution_count": 32,
     "metadata": {},
     "output_type": "execute_result"
    }
   ],
   "source": [
    "nums = [1, 2, 3]\n",
    "%time permute(nums)"
   ]
  },
  {
   "cell_type": "markdown",
   "metadata": {},
   "source": [
    "## 16. Permutations II (Medium)\n",
    "\n",
    "**Description**\n",
    "\n",
    "Given a list of numbers with duplicate number in it. Find all unique permutations.\n",
    "\n",
    "**Example**\n",
    "\n",
    "For numbers [1, 2, 2] the unique permutations are:\n",
    "\n",
    "```\n",
    "[\n",
    "  [1, 2, 2],\n",
    "  [2, 1, 2],\n",
    "  [2, 2, 1]\n",
    "]\n",
    "```\n",
    "\n",
    "**Challenge**\n",
    "\n",
    "Using recursion to do it is acceptable. If you can do it without recursion, that would be great!\n",
    "\n",
    "<u>**Solution**</u>\n",
    "\n",
    "这里我们先考虑一下, 它与上一题唯一的不同在于: 在DFS函数中, 做循环遍历时, 如果与当前元素相同的一个元素已经被取用过, 则要跳过所有值相同的元素.\n",
    "\n",
    "举个例子: 对于序列[1, 1, 2, 3]. 在DFS首次遍历时, 1作为首元素被加到list中, 并进行后续元素的添加; 那么, 当DFS跑完第一个分支, 遍历到1(第二个)时, 这个1不再作为首元素添加到list中, 因为1作为首元素的情况已经在第一个分支中考虑过了.\n",
    "  \n",
    "为了实现这一剪枝思路, 有了如下的解题算法:\n",
    "\n",
    "1. 先对给定的序列nums进行排序, 使得大小相同的元素排在一起;\n",
    "2. 新建一个used数组, 大小与nums相同, 用来标记在本次DFS读取中, 位置i的元素是否已经被添加到list中了;\n",
    "3. 我们选择跳过一个数, 当且仅当这个数与前一个数相等, 并且前一个数未被添加到list中. \n",
    "  \n",
    "\n",
    "根据以上算法, 对上一题代码略做修改, 可以得到如下代码."
   ]
  },
  {
   "cell_type": "code",
   "execution_count": 33,
   "metadata": {
    "collapsed": true
   },
   "outputs": [],
   "source": [
    "res = []\n",
    "\n",
    "def dfs(nums, used, List, length):\n",
    "    if len(List) == length:\n",
    "        res.append(List)\n",
    "        return\n",
    "    for i in range(length):\n",
    "        # 当前位置的数已经在List中了\n",
    "        if used[i] == True:\n",
    "            continue\n",
    "        # 当前元素与其前一个元素值相同且前元素未被加到list中, 跳过该元素\n",
    "        if i > 0 and nums[i] == nums[i - 1] and used[i - 1] != True:\n",
    "            continue\n",
    "        # 深度优先搜索遍历\n",
    "        used[i] = True\n",
    "        List.append(nums[i])\n",
    "        dfs(nums, used, List, length)\n",
    "        List.pop()\n",
    "        used[i] = False\n",
    "\n",
    "def permuteUnique(nums):\n",
    "    length = len(nums)\n",
    "    if length == 0 or nums == None:\n",
    "        return res\n",
    "    used = [False] * length\n",
    "    List = []\n",
    "    sorted(nums)\n",
    "    dfs(nums, used, List, length)\n",
    "    return res"
   ]
  },
  {
   "cell_type": "code",
   "execution_count": 34,
   "metadata": {},
   "outputs": [
    {
     "name": "stdout",
     "output_type": "stream",
     "text": [
      "CPU times: user 45 µs, sys: 12 µs, total: 57 µs\n",
      "Wall time: 56 µs\n"
     ]
    },
    {
     "data": {
      "text/plain": [
       "[[3, 2, 1], [2, 3, 1], [2, 1, 3], [3, 1, 2], [1, 3, 2], [1, 2, 3]]"
      ]
     },
     "execution_count": 34,
     "metadata": {},
     "output_type": "execute_result"
    }
   ],
   "source": [
    "nums = [1, 2, 3]\n",
    "%time permute(nums)"
   ]
  },
  {
   "cell_type": "markdown",
   "metadata": {},
   "source": [
    "## 17. Subsets (Medium)\n",
    "\n",
    "**Description**\n",
    "\n",
    "Given a set of distinct integers, return all possible subsets.\n",
    "\n",
    "ⓘ Elements in a subset must be in non-descending order.\n",
    "\n",
    "    The solution set must not contain duplicate subsets.\n",
    "\n",
    "**Example**\n",
    "\n",
    "If S = [1, 2, 3], a solution is:\n",
    "\n",
    "```\n",
    "[\n",
    "  [3],\n",
    "  [1],\n",
    "  [2],\n",
    "  [1,2,3],\n",
    "  [1,3],\n",
    "  [2,3],\n",
    "  [1,2],\n",
    "  []\n",
    "]\n",
    "```\n",
    "\n",
    "**Challenge**\n",
    "\n",
    "Can you do it in both recursively and iteratively?\n",
    "\n",
    "<u>**Solution**</u>\n",
    "\n",
    "这个Subsets是搜索相关的比较经典的几个题之一.\n",
    "\n",
    "说到搜索, 当然先要理解递归. 递归是解决搜索问题最直接的方法, 包括用BFS的图上搜索以及用DFS的Subsets, Permutations等.\n",
    "\n",
    "递归要注意几个问题, 也就是考虑递归问题时的思维方式问题, 理解递归是什么:\n",
    "\n",
    "递归简而言之就是自己调用自己, 在思维上, 主要就是想清楚, 在这一层时递归做了什么, 完全不需要考虑上一步跟下一步递归要做什么, 想清楚之后传递给下一层就行了."
   ]
  },
  {
   "cell_type": "markdown",
   "metadata": {
    "collapsed": true
   },
   "source": [
    "+ **方法1**: 递归\n",
    "\n",
    "    1. 需要递归时, 要理清递归辅助函数helper是用来做什么的: 比如这个Subsets, 那么递归辅助函数helper(res, List, nums, pos), 将以List开头的Subsets放入res里, pos的目的是确保递归不选重复的;\n",
    "    2. 如何把大问题变到小问题;\n",
    "    3. 出口: 极端小的情况下返回什么, 或者做什么事儿."
   ]
  },
  {
   "cell_type": "code",
   "execution_count": 35,
   "metadata": {
    "collapsed": true
   },
   "outputs": [],
   "source": [
    "# 递归函数定义: 把List开头的subsets放进res里\n",
    "def dfs(res, nums, List, pos):\n",
    "    # 递归过程: 局部操作, 把List deep copy, 存进res里面(程序开始先存入None, 之前最开始List是None)\n",
    "    res.append(List)\n",
    "    # for-loop\n",
    "    # 把1开头, 把2开头, 把3开头的, ..., 都加入List, \n",
    "    # 但上面往res里添加时没有限制约束, 所以每加一个数字就添加进res一次, \n",
    "    # 但是由于有pos指针, 所以记录了从1到2的分岔点位置\n",
    "    for i in range(pos, len(nums)):\n",
    "        dfs(res, nums, List + [nums[i]], i + 1)\n",
    "\n",
    "def subsets(nums):\n",
    "    res = []\n",
    "    n = len(nums)\n",
    "    if nums == None or n == 0:\n",
    "        return res\n",
    "    # 由于题目要求升序排列, 所以排序一下; 另外基本上搜索的都要排序一下, 比较方便\n",
    "    sorted(nums)\n",
    "    dfs(res, nums, [], 0)\n",
    "    return res"
   ]
  },
  {
   "cell_type": "code",
   "execution_count": 36,
   "metadata": {},
   "outputs": [
    {
     "name": "stdout",
     "output_type": "stream",
     "text": [
      "CPU times: user 20 µs, sys: 0 ns, total: 20 µs\n",
      "Wall time: 25 µs\n"
     ]
    },
    {
     "data": {
      "text/plain": [
       "[[], [1], [1, 2], [1, 2, 3], [1, 3], [2], [2, 3], [3]]"
      ]
     },
     "execution_count": 36,
     "metadata": {},
     "output_type": "execute_result"
    }
   ],
   "source": [
    "nums = [1, 2, 3]\n",
    "%time subsets(nums)"
   ]
  },
  {
   "cell_type": "markdown",
   "metadata": {},
   "source": [
    "## 18. Subsets II (Medium)\n",
    "\n",
    "**Description**\n",
    "\n",
    "Given a list of numbers that may has duplicate numbers, return all possible subsets\n",
    "\n",
    "ⓘ Each element in a subset must be in non-descending order.\n",
    "\n",
    "    The ordering between two subsets is free.\n",
    "\n",
    "    The solution set must not contain duplicate subsets.\n",
    "\n",
    "**Example**\n",
    "\n",
    "If S = [1, 2, 2], a solution is:\n",
    "\n",
    "```\n",
    "[\n",
    "  [2],\n",
    "  [1],\n",
    "  [1,2,2],\n",
    "  [2,2],\n",
    "  [1,2],\n",
    "  []\n",
    "]\n",
    "```\n",
    "\n",
    "**Challenge**\n",
    "\n",
    "Can you do it in both recursively and iteratively?\n",
    "\n",
    "<u>**Solution**</u>\n",
    "\n",
    "这是上一道Subsets的延伸. 这次输入数组允许有重复项, 其他条件都不变, 只需要在之前那道题解法的基础上稍加改动便可以做出来."
   ]
  },
  {
   "cell_type": "markdown",
   "metadata": {
    "collapsed": true
   },
   "source": [
    "+ **方法1**: 非递归解法\n",
    "\n",
    "拿题目中的例子[1, 2, 2]来分析, 根据之前Subsets里的分析可知, 当处理到第一个2时, 此时的子集合为[], [1], [2], [1, 2], 而这时再处理第二个2时, 如果在[]和[1]后直接加2会产生重复, 所以只能在上一个循环生成的后两个子集合后面加2, 发现了这一点, 题目就可以做了, 我们用last来记录上一个处理的数字, 然后判定当前的数字和上面的是否相同, 若不同, 则循环还是从0到当前子集的个数; 若相同, 则新子集个数减去之前循环时子集的个数当做起点来循环, 这样就不会产生重复了."
   ]
  },
  {
   "cell_type": "code",
   "execution_count": 37,
   "metadata": {
    "collapsed": true
   },
   "outputs": [],
   "source": [
    "def flatten(nestedList):\n",
    "    flat = True\n",
    "    nl = nestedList\n",
    "    while flat:\n",
    "        flat = False\n",
    "        new_nl = []\n",
    "        for i in nl:\n",
    "            if type(i) == int:\n",
    "                new_nl.append(i)\n",
    "            else:\n",
    "                for i_j in i:\n",
    "                    new_nl.append(i_j)\n",
    "                    flat = True\n",
    "        nl = new_nl\n",
    "    return nl\n",
    "\n",
    "def subsetsWithDup(nums):\n",
    "    res = []\n",
    "    n = len(nums)\n",
    "    if n == 0 or nums == None:\n",
    "        return res\n",
    "    sorted(nums)\n",
    "    res.append([]) # 这样的设置在下面的计算中会将[]循环带入运算, 参考LintCode 22 Flatten来解决\n",
    "    start = 0\n",
    "    for i in range(n):\n",
    "        size = len(res)\n",
    "        for j in range(start, size):\n",
    "            tmp = [res[j]]\n",
    "            tmp.append(nums[i])\n",
    "            tmp1 = []\n",
    "            for tmp_i in tmp:\n",
    "                if tmp_i == []:\n",
    "                    continue\n",
    "                else:\n",
    "                    tmp1.append(tmp_i)\n",
    "            res.append(tmp1)\n",
    "        if i < n - 1 and nums[i + 1] == nums[i]:\n",
    "            start = size\n",
    "        else:\n",
    "            start = 0\n",
    "    \n",
    "    for i in range(1, len(res)):\n",
    "        res[i] = flatten(res[i])\n",
    "    return res"
   ]
  },
  {
   "cell_type": "code",
   "execution_count": 38,
   "metadata": {},
   "outputs": [
    {
     "name": "stdout",
     "output_type": "stream",
     "text": [
      "CPU times: user 84 µs, sys: 27 µs, total: 111 µs\n",
      "Wall time: 98.9 µs\n"
     ]
    },
    {
     "data": {
      "text/plain": [
       "[[], [1], [2], [1, 2], [2, 2], [1, 2, 2]]"
      ]
     },
     "execution_count": 38,
     "metadata": {},
     "output_type": "execute_result"
    }
   ],
   "source": [
    "nums = [1, 2, 2]\n",
    "%time subsetsWithDup(nums)"
   ]
  },
  {
   "cell_type": "markdown",
   "metadata": {},
   "source": [
    "+ **方法2**: 递归解法\n",
    "\n",
    "根据之前Subsets里的构建树的方法, 在处理到第二个2时, 由于前面已经处理了一次2, 这次我们只在添加过2的[2]和 [1, 2]后面添加2, 其他的都不添加."
   ]
  },
  {
   "cell_type": "code",
   "execution_count": 39,
   "metadata": {
    "collapsed": true
   },
   "outputs": [],
   "source": [
    "from numpy import unique"
   ]
  },
  {
   "cell_type": "code",
   "execution_count": 40,
   "metadata": {
    "collapsed": true
   },
   "outputs": [],
   "source": [
    "def getSubsets(nums, pos, out, res):\n",
    "    res.append(out)\n",
    "    n = len(nums)\n",
    "    for i in range(pos, n):\n",
    "        out = out + [nums[i]]\n",
    "        getSubsets(nums, i + 1, out, res)\n",
    "        out = out[:-1]\n",
    "        # 跳过树中为X的叶节点，因为它们是重复的子集，应被抛弃\n",
    "        while i + 1 < n and nums[i] == nums[i + 1]:\n",
    "            i += 1\n",
    "\n",
    "def subsetsWithDup(nums):\n",
    "    res = []\n",
    "    n = len(nums)\n",
    "    if n == 0 or nums == None:\n",
    "        return res\n",
    "    sorted(nums)\n",
    "    getSubsets(nums, 0, [], res)\n",
    "    res = list(unique(res))\n",
    "    return res"
   ]
  },
  {
   "cell_type": "code",
   "execution_count": 41,
   "metadata": {},
   "outputs": [
    {
     "name": "stdout",
     "output_type": "stream",
     "text": [
      "CPU times: user 400 µs, sys: 139 µs, total: 539 µs\n",
      "Wall time: 555 µs\n"
     ]
    },
    {
     "data": {
      "text/plain": [
       "[[], [1], [1, 2], [1, 2, 2], [2], [2, 2]]"
      ]
     },
     "execution_count": 41,
     "metadata": {},
     "output_type": "execute_result"
    }
   ],
   "source": [
    "nums = [1, 2, 2]\n",
    "%time subsetsWithDup(nums)"
   ]
  },
  {
   "cell_type": "markdown",
   "metadata": {},
   "source": [
    "+ **方法3**: DFS"
   ]
  },
  {
   "cell_type": "code",
   "execution_count": 42,
   "metadata": {
    "collapsed": true
   },
   "outputs": [],
   "source": [
    "def dfs(res, List, nums, pos):\n",
    "    if List not in res:  \n",
    "        res.append(List)  \n",
    "    for i in range(pos, len(nums)):  \n",
    "        dfs(res, List + [nums[i]], nums, i + 1)\n",
    "\n",
    "def subsetsWithDup(nums):\n",
    "    res = []\n",
    "    n = len(nums)\n",
    "    if n == 0 or nums == None:\n",
    "        return res\n",
    "    sorted(nums)\n",
    "    dfs(res, [], nums, 0)\n",
    "    return res"
   ]
  },
  {
   "cell_type": "code",
   "execution_count": 43,
   "metadata": {},
   "outputs": [
    {
     "name": "stdout",
     "output_type": "stream",
     "text": [
      "CPU times: user 39 µs, sys: 12 µs, total: 51 µs\n",
      "Wall time: 48.9 µs\n"
     ]
    },
    {
     "data": {
      "text/plain": [
       "[[], [1], [1, 2], [1, 2, 2], [2], [2, 2]]"
      ]
     },
     "execution_count": 43,
     "metadata": {},
     "output_type": "execute_result"
    }
   ],
   "source": [
    "nums = [1, 2, 2]\n",
    "%time subsetsWithDup(nums)"
   ]
  },
  {
   "cell_type": "markdown",
   "metadata": {},
   "source": [
    "## 20. Dices Sum (Hard)\n",
    "\n",
    "**Description**\n",
    "\n",
    "Throw n dices, the sum of the dices' faces is S. Given n, find the all possible value of S along with its probability.\n",
    "\n",
    "ⓘ You do not care about the accuracy of the result, we will help you to output results.\n",
    "\n",
    "**Example**\n",
    "\n",
    "Given n = 1, return [ [1, 0.17], [2, 0.17], [3, 0.17], [4, 0.17], [5, 0.17], [6, 0.17]].\n",
    "\n",
    "<u>**Solution**</u>\n",
    "\n",
    "这题用DFS做感觉更加直观, 但是过不了time cost. 换成DP(Dynamical Programming)的方法我是这么想的:\n",
    "\n",
    "用dp[i][j]表示有i + 1个骰子的情况下, 掷到的和为j的次数. 那么intialize这个dp[0][j], j = 1...6的值都为1, 然后从i = 1开始做循环. i个骰子和i + 1个骰子的差别就是1个骰子, 所以再用一个k = 1..6进行遍历, 那么i + 1个骰子掷到j + k的次数就是原来dp[i][j + k]的次数加上dp[i - 1][j].\n",
    "\n",
    "这样我们就求得了n个骰子的情况下, 每个S出现的次数dp[n - 1][j], j = n..6 * n. 那么概率就是每个dp[n - 1][j]除以出现的总次数sum(dp[n - 1][j]).\n",
    "\n",
    "这里要注意dp的值可能很大."
   ]
  },
  {
   "cell_type": "code",
   "execution_count": 44,
   "metadata": {
    "collapsed": true
   },
   "outputs": [],
   "source": [
    "import numpy as np"
   ]
  },
  {
   "cell_type": "code",
   "execution_count": 45,
   "metadata": {
    "collapsed": true
   },
   "outputs": [],
   "source": [
    "def dicesSum(n):\n",
    "    res = []\n",
    "    dp = np.zeros((n + 1, 6 * n + 1))\n",
    "    for i in range(1, 7):\n",
    "        dp[1, i] = 1.0 / 6.0\n",
    "    for i in range(2, n + 1):\n",
    "        for j in range(i, 6 * i + 1):\n",
    "            for k in range(1, 7):\n",
    "                if j > k:\n",
    "                    dp[i, j] += dp[i - 1, j - k]\n",
    "            dp[i, j] /= 6.0\n",
    "    for i in range(n, 6 * n + 1):\n",
    "        res.append([i, round(dp[n, i], 2)])\n",
    "    return res"
   ]
  },
  {
   "cell_type": "code",
   "execution_count": 46,
   "metadata": {},
   "outputs": [
    {
     "name": "stdout",
     "output_type": "stream",
     "text": [
      "CPU times: user 78 µs, sys: 29 µs, total: 107 µs\n",
      "Wall time: 107 µs\n"
     ]
    },
    {
     "data": {
      "text/plain": [
       "[[1, 0.17], [2, 0.17], [3, 0.17], [4, 0.17], [5, 0.17], [6, 0.17]]"
      ]
     },
     "execution_count": 46,
     "metadata": {},
     "output_type": "execute_result"
    }
   ],
   "source": [
    "n = 1\n",
    "%time dicesSum(n)"
   ]
  }
 ],
 "metadata": {
  "kernelspec": {
   "display_name": "Python 2",
   "language": "python",
   "name": "python2"
  },
  "language_info": {
   "codemirror_mode": {
    "name": "ipython",
    "version": 2
   },
   "file_extension": ".py",
   "mimetype": "text/x-python",
   "name": "python",
   "nbconvert_exporter": "python",
   "pygments_lexer": "ipython2",
   "version": "2.7.13"
  }
 },
 "nbformat": 4,
 "nbformat_minor": 2
}
