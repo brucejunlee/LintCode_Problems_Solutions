{
 "cells": [
  {
   "cell_type": "markdown",
   "metadata": {},
   "source": [
    "# [LintCode](https://www.lintcode.com/problem/) Problems"
   ]
  },
  {
   "cell_type": "markdown",
   "metadata": {},
   "source": [
    "## 1. A+B Problem (Easy)\n",
    "\n",
    "**Description**\n",
    "\n",
    "Write a function that add two numbers A and B. You should not use + or any arithmetic operators.\n",
    "\n",
    "**Clarification**\n",
    "\n",
    "Are a and b both 32-bit integers?\n",
    "\n",
    "+ **Yes**.\n",
    "\n",
    "Can I use bit operation?\n",
    "\n",
    "+ **Sure you can**.\n",
    "\n",
    "**Example**\n",
    "\n",
    "Given a=1 and b=2 return 3.\n",
    "\n",
    "**Challenge**\n",
    "\n",
    "Of course you can just return a + b to get accepted. But Can you challenge not do it like that?\n",
    "\n",
    "<u>**Solution**</u>\n",
    "\n",
    "用**位运算**实现加法, 即像计算机用二进制实现运算一样."
   ]
  },
  {
   "cell_type": "markdown",
   "metadata": {},
   "source": [
    "+ 迭代版本"
   ]
  },
  {
   "cell_type": "code",
   "execution_count": 1,
   "metadata": {
    "collapsed": true
   },
   "outputs": [],
   "source": [
    "def aplusb(a, b):\n",
    "    res = a ^ b\n",
    "    carry = a & b\n",
    "    while carry:\n",
    "        temp_a = res # 表示无进位的加法\n",
    "        temp_b = carry << 1 # 表示进位\n",
    "        res = temp_a ^ temp_b\n",
    "        carry = temp_a & temp_b\n",
    "    return res"
   ]
  },
  {
   "cell_type": "code",
   "execution_count": 2,
   "metadata": {},
   "outputs": [
    {
     "name": "stdout",
     "output_type": "stream",
     "text": [
      "CPU times: user 8 µs, sys: 5 µs, total: 13 µs\n",
      "Wall time: 16.9 µs\n"
     ]
    },
    {
     "data": {
      "text/plain": [
       "3"
      ]
     },
     "execution_count": 2,
     "metadata": {},
     "output_type": "execute_result"
    }
   ],
   "source": [
    "%time aplusb(1, 2)"
   ]
  },
  {
   "cell_type": "markdown",
   "metadata": {},
   "source": [
    "+ 递归版本"
   ]
  },
  {
   "cell_type": "code",
   "execution_count": 3,
   "metadata": {
    "collapsed": true
   },
   "outputs": [],
   "source": [
    "def aplusb(a, b):\n",
    "    if a == 0:\n",
    "        return b\n",
    "    res = a ^ b # 表示无进位的加法\n",
    "    carry = (a & b) << 1 # 表示进位\n",
    "    return aplusb(carry, res)"
   ]
  },
  {
   "cell_type": "code",
   "execution_count": 4,
   "metadata": {},
   "outputs": [
    {
     "name": "stdout",
     "output_type": "stream",
     "text": [
      "CPU times: user 6 µs, sys: 1e+03 ns, total: 7 µs\n",
      "Wall time: 11 µs\n"
     ]
    },
    {
     "data": {
      "text/plain": [
       "3"
      ]
     },
     "execution_count": 4,
     "metadata": {},
     "output_type": "execute_result"
    }
   ],
   "source": [
    "%time aplusb(1, 2)"
   ]
  },
  {
   "cell_type": "markdown",
   "metadata": {},
   "source": [
    "## 2. Trailing Zeros (Easy)\n",
    "\n",
    "**Description**\n",
    "\n",
    "Write an algorithm which computes the number of trailing zeros in n factorial.\n",
    "\n",
    "**Example**\n",
    "\n",
    "11! = 39916800, so the out should be 2\n",
    "\n",
    "**Challenge**\n",
    "\n",
    "O(log N) time\n",
    "\n",
    "<u>**Solution**</u>\n",
    "\n",
    "+ 直接计算阶乘后统计末尾0的个数可能会<u>**溢出**</u>\n",
    "\n",
    "+ 从\"哪些数相乘可以得到10\"这样的角度考虑: 如果将N阶乘表示成K和10的M次方的乘积, 那么N!末尾就有M个0. 如果将N阶乘分解成素数幂次的乘积, 即2的X次方, 3的Y次方, 5的Z次方, ... 的乘积，由于10 = 2 * 5, 所以M只能和X和Z有关, 每一对2和5相乘就可以得到一个10, 于是M = MIN(X, Z), 不难看出X大于Z, 因为被2整除的频率要比被5整除的频率高得多, 所以可以把公式简化为M=Z. 由上面的分析可以看出, 只要计算Z的值，就可以得到N!末尾0的个数."
   ]
  },
  {
   "cell_type": "markdown",
   "metadata": {},
   "source": [
    "+ **方法1**: 直接求出N阶乘的所有因式(1,2,3,...,N)分解中5的指数, 然后求和"
   ]
  },
  {
   "cell_type": "code",
   "execution_count": 5,
   "metadata": {
    "collapsed": true
   },
   "outputs": [],
   "source": [
    "def trailingZeros(n):\n",
    "    num = 0\n",
    "    for i in range(5, n + 1, 5):\n",
    "        j = i\n",
    "        while j % 5 == 0:\n",
    "            num += 1\n",
    "            j /= 5\n",
    "    return num"
   ]
  },
  {
   "cell_type": "code",
   "execution_count": 6,
   "metadata": {},
   "outputs": [
    {
     "name": "stdout",
     "output_type": "stream",
     "text": [
      "CPU times: user 9 µs, sys: 1e+03 ns, total: 10 µs\n",
      "Wall time: 12.9 µs\n"
     ]
    },
    {
     "data": {
      "text/plain": [
       "2"
      ]
     },
     "execution_count": 6,
     "metadata": {},
     "output_type": "execute_result"
    }
   ],
   "source": [
    "%time trailingZeros(11)"
   ]
  },
  {
   "cell_type": "markdown",
   "metadata": {},
   "source": [
    "+ **方法2**\n",
    "\n",
    "Z = N / 5 + N / (5 \\* 5) + N / (5 \\* 5 \\* 5) + ... 直到N/(5的K次方)等于0, 公式中 N/5表示不大于N的数中能被5整除的数贡献一个5, N / (5 * 5)表示不大于N的数中能被25整除的数再共享一个5..."
   ]
  },
  {
   "cell_type": "code",
   "execution_count": 7,
   "metadata": {
    "collapsed": true
   },
   "outputs": [],
   "source": [
    "def trailingZeros(n):\n",
    "    num = 0\n",
    "    while n != 0:\n",
    "        num += n / 5\n",
    "        n = n / 5\n",
    "    return num"
   ]
  },
  {
   "cell_type": "code",
   "execution_count": 8,
   "metadata": {},
   "outputs": [
    {
     "name": "stdout",
     "output_type": "stream",
     "text": [
      "CPU times: user 8 µs, sys: 2 µs, total: 10 µs\n",
      "Wall time: 16.9 µs\n"
     ]
    },
    {
     "data": {
      "text/plain": [
       "2"
      ]
     },
     "execution_count": 8,
     "metadata": {},
     "output_type": "execute_result"
    }
   ],
   "source": [
    "%time trailingZeros(11)"
   ]
  },
  {
   "cell_type": "markdown",
   "metadata": {},
   "source": [
    "## 3. Digit Counts (Medium)\n",
    "\n",
    "**Description**\n",
    "\n",
    "Count the number of k's between 0 and n. k can be 0 - 9.\n",
    "\n",
    "**Example**\n",
    "\n",
    "if n = 12, k = 1 in [0, 1, 2, 3, 4, 5, 6, 7, 8, 9, 10, 11, 12]\n",
    "\n",
    "we have FIVE 1's (1, 10, 11, 12)\n",
    "\n",
    "<u>**Solution**</u>\n"
   ]
  },
  {
   "cell_type": "markdown",
   "metadata": {},
   "source": [
    "+ **方法1**: Brute Force(暴力法), 即遍历一遍0~n, 统计每个数字中k出现的个数."
   ]
  },
  {
   "cell_type": "code",
   "execution_count": 9,
   "metadata": {
    "collapsed": true
   },
   "outputs": [],
   "source": [
    "# 检查单个数字num中k的个数\n",
    "def count(num, k):\n",
    "    tmp = str(num)\n",
    "    res = 0\n",
    "    for i in range(len(tmp)):\n",
    "        if int(tmp[i]) == k:\n",
    "            res += 1\n",
    "    return res\n",
    "\n",
    "# 总计\n",
    "def digitCounts(k, n):\n",
    "    res = 0\n",
    "    for i in range(n + 1):\n",
    "        res += count(i, k)\n",
    "    return res"
   ]
  },
  {
   "cell_type": "code",
   "execution_count": 10,
   "metadata": {},
   "outputs": [
    {
     "name": "stdout",
     "output_type": "stream",
     "text": [
      "CPU times: user 58 µs, sys: 13 µs, total: 71 µs\n",
      "Wall time: 64.1 µs\n"
     ]
    },
    {
     "data": {
      "text/plain": [
       "5"
      ]
     },
     "execution_count": 10,
     "metadata": {},
     "output_type": "execute_result"
    }
   ],
   "source": [
    "%time digitCounts(1, 12)"
   ]
  },
  {
   "cell_type": "markdown",
   "metadata": {},
   "source": [
    "+ **方法2**: 直接统计从0-n中, 每一位中可能出现为k的个数. \n",
    "\n",
    "举个例子, 假设n是一个5位数, 我们就是要统计从第一位到第五位中, k可能出现的个数. \n",
    "\n",
    "更具体一些, 假设n=12345, k=3, m为当前统计到的位数(m=1,2,3,4,5), k出现的个数为cnt, 如果我们要统计百位上3出现的次数, 显然:\n",
    "\n",
    "1. 小于3*100的数, 我们不予考虑 \n",
    "2. 紧接我们考虑300~399的数 \n",
    "3. 再考虑1300~1399, 2300~2399, …, 9300~9399(共100*10=1000个数) \n",
    "4. 最后考虑10300~10399, 11300~11399, 12300~12345中3出现个数(共100*2+46=246个数)\n",
    "\n",
    "从上面看到, 只需固定前3位为300~399, 直接算出后面位数所有可能出现的情况, 就是我们对于当前位数出现的3的个数的统计. 这里, 就是1000+246=1246个数，恰好是 1 + 12345 % 100 + 12345 / (100 \\* 10) \\* 100.\n",
    "\n",
    "这里作一些变量设定,\n",
    "\n",
    "base = 100\n",
    "\n",
    "lower= 12345 % base\n",
    "\n",
    "higher = 12345 / (base * 10)\n",
    "\n",
    "curBit = 12345 % (base * 10) / base\n",
    "\n",
    "count = 1 + base * higher + lower\n",
    "\n",
    "则我们得到了计算当k=curBit时, k的个数(count)的大小.\n",
    "\n",
    "上面的变量表示如下：\n",
    "\n",
    "1. higer:表示更高位, 如当前位数为3, 则更高位是第4, 5位;\n",
    "2. lower:表示更低位, 如1, 2位;\n",
    "3. curBit表示第3位的数字.\n",
    "\n",
    "我们可以类比分析出:\n",
    "\n",
    "1. 当k < curBit, 比如求第2位时, 有 count = base * (higer + 1)\n",
    "2. 当k > curBit, 比如求第4位时, 有 count = base * higer\n",
    "\n",
    "这里有两个特别需要注意的地方： \n",
    "\n",
    "1. 如果k = n = 0, 则count = 1 \n",
    "2. 如果k = 0, n != 0, 则我们应该不算最高位的情况, 因为最高位不可能为0."
   ]
  },
  {
   "cell_type": "code",
   "execution_count": 11,
   "metadata": {
    "collapsed": true
   },
   "outputs": [],
   "source": [
    "def digitCounts(k, n):\n",
    "    count = 0\n",
    "    base = 1\n",
    "    flag = 1\n",
    "    if k ==0 and n == 0:\n",
    "        return 1\n",
    "    if k == 0:\n",
    "        flag = 10\n",
    "    while n / base >= flag:\n",
    "        curBit = n % (base * 10) / base\n",
    "        higer = n / (base * 10)\n",
    "        lower = n % base\n",
    "        if curBit < k:\n",
    "            count += base * higer\n",
    "        elif curBit == k:\n",
    "            count += 1 + base * higer + lower\n",
    "        else:\n",
    "            count += base * (higer + 1)\n",
    "        base *= 10\n",
    "    return count"
   ]
  },
  {
   "cell_type": "code",
   "execution_count": 12,
   "metadata": {},
   "outputs": [
    {
     "name": "stdout",
     "output_type": "stream",
     "text": [
      "CPU times: user 15 µs, sys: 5 µs, total: 20 µs\n",
      "Wall time: 22.9 µs\n"
     ]
    },
    {
     "data": {
      "text/plain": [
       "5"
      ]
     },
     "execution_count": 12,
     "metadata": {},
     "output_type": "execute_result"
    }
   ],
   "source": [
    "%time digitCounts(1, 12)"
   ]
  },
  {
   "cell_type": "markdown",
   "metadata": {},
   "source": [
    "## 4. Ugly Number II (Medium)\n",
    "\n",
    "**Description**\n",
    "\n",
    "Ugly number is a number that only have factors 2, 3 and 5.\n",
    "\n",
    "Design an algorithm to find the nth ugly number. The first 10 ugly numbers are 1, 2, 3, 4, 5, 6, 8, 9, 10, 12 ...\n",
    "\n",
    "ⓘ Note that 1 is typically treated as an ugly number.\n",
    "\n",
    "**Example**\n",
    "\n",
    "If n=9, return 10.\n",
    "\n",
    "**Challenge**\n",
    "\n",
    "O(n log n) or O(n) time.\n",
    "\n",
    "<u>**Solution**</u>\n"
   ]
  },
  {
   "cell_type": "markdown",
   "metadata": {},
   "source": [
    "+ **方法1**: Brute Force(暴力法), 即首先除2, 直到不能整除为止, 然后除5到不能整除为止, 然后除3直到不能整除为止. 最终判断剩余的数字是否为1, 如果是1则为ugly number, 否则不是ugly number."
   ]
  },
  {
   "cell_type": "code",
   "execution_count": 13,
   "metadata": {
    "collapsed": true
   },
   "outputs": [],
   "source": [
    "def nthUglyNumber(n):\n",
    "    countN = 0\n",
    "    res = 0\n",
    "    while countN < n:\n",
    "        res += 1\n",
    "        number = res\n",
    "        while number % 2 == 0:\n",
    "            number = number / 2\n",
    "        while number % 3 == 0:\n",
    "            number = number / 3\n",
    "        while number % 5 == 0:\n",
    "            number = number / 5\n",
    "        if number == 1:\n",
    "            countN += 1\n",
    "    return res"
   ]
  },
  {
   "cell_type": "code",
   "execution_count": 14,
   "metadata": {},
   "outputs": [
    {
     "name": "stdout",
     "output_type": "stream",
     "text": [
      "CPU times: user 23 µs, sys: 11 µs, total: 34 µs\n",
      "Wall time: 32.9 µs\n"
     ]
    },
    {
     "data": {
      "text/plain": [
       "10"
      ]
     },
     "execution_count": 14,
     "metadata": {},
     "output_type": "execute_result"
    }
   ],
   "source": [
    "%time nthUglyNumber(9)"
   ]
  },
  {
   "cell_type": "markdown",
   "metadata": {},
   "source": [
    "+ **方法2**: 直接寻找ugly number. 由ugly number的定义可知, 任何一个ugly number都是2<sup>i</sup> \\* 3<sup>j</sup> \\* 5<sup>k</sup>这种形式, 因此不断寻找ugly number, 将它们按从小到大的顺序进行排列, 直到第n个即为结果.\n",
    "\n",
    "首先定义一个数组存放ugly number, 默认假定1是ugly number, 所以初始化数组ugly[0] = 1, 然后从2, 3, 5这三个种子中挑选, 选择ugly[0] \\* 2, ugly[0] \\* 3, ugly[0] \\* 5中最小的数为新的ugly number, 显然应该选择2, ugly[1] = 2, 然后再从2, 3, 5这三个种子中选择, 这时应该是从ugly[1] \\* 2, ugly[0] \\* 3, ugly[0] \\* 5中进行选择, 显然应该选择3, 即ugly[2] = 3, 然后再从ugly[1] \\* 2, ugly[1] \\* 3, ugly[0] \\* 5中选择最小的, 选择4, 即ugly[3] = 4，依次进行类似操作，从而得到最终的结果。"
   ]
  },
  {
   "cell_type": "code",
   "execution_count": 15,
   "metadata": {
    "collapsed": true
   },
   "outputs": [],
   "source": [
    "def nthUglyNumber(n):\n",
    "    ugly = [0] * n\n",
    "    ugly[0] = 1\n",
    "    p_2 = 0\n",
    "    p_3 = 0\n",
    "    p_5 = 0\n",
    "    for i in range(1, n):\n",
    "        ugly[i] = min(ugly[p_2] * 2, ugly[p_3] * 3, ugly[p_5] * 5)\n",
    "        if ugly[i] / ugly[p_2] == 2:\n",
    "            p_2 += 1\n",
    "        if ugly[i] / ugly[p_3] == 3:\n",
    "            p_3 += 1\n",
    "        if ugly[i] / ugly[p_5] == 5:\n",
    "            p_5 += 1\n",
    "    return ugly[n - 1]"
   ]
  },
  {
   "cell_type": "code",
   "execution_count": 16,
   "metadata": {},
   "outputs": [
    {
     "name": "stdout",
     "output_type": "stream",
     "text": [
      "CPU times: user 31 µs, sys: 11 µs, total: 42 µs\n",
      "Wall time: 37.9 µs\n"
     ]
    },
    {
     "data": {
      "text/plain": [
       "10"
      ]
     },
     "execution_count": 16,
     "metadata": {},
     "output_type": "execute_result"
    }
   ],
   "source": [
    "%time nthUglyNumber(9)"
   ]
  },
  {
   "cell_type": "markdown",
   "metadata": {},
   "source": [
    "## 5. Kth Largest Element (Medium)\n",
    "\n",
    "**Description**\n",
    "\n",
    "Find K-th largest element in an array.\n",
    "\n",
    "ⓘ You can swap elements in the array\n",
    "\n",
    "**Example**\n",
    "\n",
    "In array [9,3,2,4,8], the 3rd largest element is 4.\n",
    "\n",
    "In array [1,2,3,4,5], the 1st largest element is 5, 2nd largest element is 4, 3rd largest element is 3 and etc.\n",
    "\n",
    "**Challenge**\n",
    "\n",
    "O(n) time, O(1) extra memory.\n",
    "\n",
    "<u>**Solution**</u>\n",
    "\n",
    "The easiest solution is to choose a random pivot, which yields almost certain linear time. Deterministically, one can use median-of-3 pivot strategy (as in the quicksort), which yields linear performance on partially sorted data, as is common in the real world. However, contrived sequences can still cause worst-case complexity; David Musser describes a \"median-of-3 killer\" sequence that allows an attack against that strategy, which was one motivation for his introselect algorithm.\n",
    "\n",
    "[Quickselect](https://en.wikipedia.org/wiki/Quickselect) uses the same overall approach as quicksort, choosing one element as a pivot and partitioning the data in two based on the pivot, accordingly as less than or greater than the pivot. However, instead of recursing into both sides, as in quicksort, quickselect only recurses into one side – the side with the element it is searching for. This reduces the average complexity from O(n log n) (in quicksort) to O(n) (in quickselect)."
   ]
  },
  {
   "cell_type": "code",
   "execution_count": 17,
   "metadata": {
    "collapsed": true
   },
   "outputs": [],
   "source": [
    "import numpy as np"
   ]
  },
  {
   "cell_type": "code",
   "execution_count": 18,
   "metadata": {
    "collapsed": true
   },
   "outputs": [],
   "source": [
    "# 下面程序实现了kth小元素查找\n",
    "def partition(A, left, right, pivotIndex):\n",
    "    pivotValue = A[pivotIndex]\n",
    "    # Move pivot to end\n",
    "    A[pivotIndex], A[right] = A[right], A[pivotIndex]\n",
    "    storeIndex = left\n",
    "    for i in range(left, right):\n",
    "        if A[i] < pivotValue:\n",
    "            A[storeIndex], A[i] = A[i], A[storeIndex]\n",
    "            storeIndex += 1\n",
    "    # Move pivot to its final place\n",
    "    A[right], A[storeIndex] = A[storeIndex], A[right]\n",
    "    return storeIndex\n",
    "\n",
    "# k's values start with 1\n",
    "def quickSelect(A, left, right, k):\n",
    "    while True:\n",
    "        if left == right:\n",
    "            return A[left]\n",
    "        pivotIndex = np.random.randint(left, right + 1)\n",
    "        pivotIndex = partition(A, left, right, pivotIndex)\n",
    "        if k - 1 == pivotIndex:\n",
    "            return A[pivotIndex]\n",
    "        elif k - 1 < pivotIndex:\n",
    "            right = pivotIndex - 1\n",
    "        else:\n",
    "            left = pivotIndex + 1"
   ]
  },
  {
   "cell_type": "code",
   "execution_count": 19,
   "metadata": {},
   "outputs": [
    {
     "name": "stdout",
     "output_type": "stream",
     "text": [
      "CPU times: user 64 µs, sys: 150 µs, total: 214 µs\n",
      "Wall time: 1.13 ms\n"
     ]
    },
    {
     "data": {
      "text/plain": [
       "2"
      ]
     },
     "execution_count": 19,
     "metadata": {},
     "output_type": "execute_result"
    }
   ],
   "source": [
    "A = [9, 3, 2, 4, 8]\n",
    "k = 1\n",
    "%time quickSelect(A, 0, len(A) - 1, k)"
   ]
  },
  {
   "cell_type": "code",
   "execution_count": 20,
   "metadata": {
    "collapsed": true
   },
   "outputs": [],
   "source": [
    "# 下面程序实现了kth大元素查找\n",
    "def partition(A, left, right, pivotIndex):\n",
    "    pivotValue = A[pivotIndex]\n",
    "    # Move pivot to end\n",
    "    A[pivotIndex], A[right] = A[right], A[pivotIndex]\n",
    "    storeIndex = left\n",
    "    for i in range(left, right):\n",
    "        if A[i] > pivotValue:\n",
    "            A[storeIndex], A[i] = A[i], A[storeIndex]\n",
    "            storeIndex += 1\n",
    "    # Move pivot to its final place\n",
    "    A[right], A[storeIndex] = A[storeIndex], A[right]\n",
    "    return storeIndex\n",
    "\n",
    "# k's values start with 1\n",
    "def quickSelect(A, left, right, k):\n",
    "    while True:\n",
    "        if left == right:\n",
    "            return A[left]\n",
    "        pivotIndex = np.random.randint(left, right + 1)\n",
    "        pivotIndex = partition(A, left, right, pivotIndex)\n",
    "        if k - 1 == pivotIndex:\n",
    "            return A[pivotIndex]\n",
    "        elif k - 1 < pivotIndex:\n",
    "            right = pivotIndex - 1\n",
    "        else:\n",
    "            left = pivotIndex + 1"
   ]
  },
  {
   "cell_type": "code",
   "execution_count": 21,
   "metadata": {},
   "outputs": [
    {
     "name": "stdout",
     "output_type": "stream",
     "text": [
      "CPU times: user 36 µs, sys: 9 µs, total: 45 µs\n",
      "Wall time: 42 µs\n"
     ]
    },
    {
     "data": {
      "text/plain": [
       "9"
      ]
     },
     "execution_count": 21,
     "metadata": {},
     "output_type": "execute_result"
    }
   ],
   "source": [
    "A = [9, 3, 2, 4, 8]\n",
    "k = 1\n",
    "%time quickSelect(A, 0, len(A) - 1, k)"
   ]
  },
  {
   "cell_type": "markdown",
   "metadata": {},
   "source": [
    "## 6. Merge Two Sorted Arrays (Easy)\n",
    "\n",
    "**Description**\n",
    "\n",
    "Merge two given sorted integer array A and B into a new sorted integer array.\n",
    "\n",
    "**Example**\n",
    "\n",
    "A=[1,2,3,4]\n",
    "\n",
    "B=[2,4,5,6]\n",
    "\n",
    "return [1,2,2,3,4,4,5,6]\n",
    "\n",
    "**Challenge**\n",
    "\n",
    "How can you optimize your algorithm if one array is very large and the other is very small?\n",
    "\n",
    "<u>**Solution**</u>\n"
   ]
  },
  {
   "cell_type": "markdown",
   "metadata": {},
   "source": [
    "+ **方法1**: 混合插入有序数组, 由于两个数组都是有序的, 所有只要按顺序比较大小即可. 最先想到的方法是建立一个大小为m+n的新数组, 然后逐个从A和B数组中取出元素比较, 把较小的加入新数组, 然后再考虑A数组有剩余和B数组有剩余这两种情况即可."
   ]
  },
  {
   "cell_type": "code",
   "execution_count": 22,
   "metadata": {
    "collapsed": true
   },
   "outputs": [],
   "source": [
    "def mergeSortedArray(A, B):\n",
    "    m = len(A)\n",
    "    n = len(B)\n",
    "    p_a = 0\n",
    "    p_b = 0\n",
    "    C = []\n",
    "    for i in range(m + n):\n",
    "        if p_a < m and p_b < n:\n",
    "            if A[p_a] < B[p_b]:\n",
    "                C.append(A[p_a])\n",
    "                p_a += 1\n",
    "            else:\n",
    "                C.append(B[p_b])\n",
    "                p_b += 1\n",
    "        elif p_a < m and p_b >= n:\n",
    "            C.append(A[p_a])\n",
    "            p_a += 1\n",
    "        elif p_a >= m and p_b < n:\n",
    "            C.append(B[p_b])\n",
    "            p_b += 1\n",
    "    return C"
   ]
  },
  {
   "cell_type": "code",
   "execution_count": 23,
   "metadata": {},
   "outputs": [
    {
     "name": "stdout",
     "output_type": "stream",
     "text": [
      "CPU times: user 15 µs, sys: 5 µs, total: 20 µs\n",
      "Wall time: 21.9 µs\n"
     ]
    },
    {
     "data": {
      "text/plain": [
       "[1, 2, 2, 3, 4, 4, 5, 6]"
      ]
     },
     "execution_count": 23,
     "metadata": {},
     "output_type": "execute_result"
    }
   ],
   "source": [
    "A=[1,2,3,4]\n",
    "B=[2,4,5,6]\n",
    "%time mergeSortedArray(A, B)"
   ]
  },
  {
   "cell_type": "markdown",
   "metadata": {},
   "source": [
    "+ **方法2**: 上面的方法固然没错, 但还有更简洁的方法, 而且不用申请新变量. 算法思想是: 由于合并后A数组的大小必定是m+n, 所以从最后面开始往前赋值, 先比较A和B中最后一个元素的大小, 把较大的那个插入到m+n-1的位置上, 再依次向前推. 如果A中所有的元素都比B小, 那么前m个还是A原来的内容, 没有改变. 如果A中的数比B大, 当A循环完了, B中还有元素没加入A, 直接用个循环把B中所有的元素覆盖到A剩下的位置."
   ]
  },
  {
   "cell_type": "code",
   "execution_count": 24,
   "metadata": {},
   "outputs": [],
   "source": [
    "def mergeSortedArray(A, B):\n",
    "    m = len(A)\n",
    "    n = len(B)\n",
    "    C = [0] * (m + n)\n",
    "    count = m + n - 1\n",
    "    m -= 1\n",
    "    n -= 1\n",
    "    while m >= 0 and n >= 0:\n",
    "        if A[m] > B[n]:\n",
    "            C[count] = A[m]\n",
    "            count -= 1\n",
    "            m -= 1\n",
    "        else:\n",
    "            C[count] = B[n]\n",
    "            count -= 1\n",
    "            n -= 1\n",
    "    while m >= 0 and n < 0:\n",
    "        C[count] = A[m]\n",
    "        count -= 1\n",
    "        m -= 1\n",
    "    while n >= 0 and m < 0:\n",
    "        C[count] = B[n]\n",
    "        count -= 1\n",
    "        n -= 1\n",
    "        \n",
    "    return C"
   ]
  },
  {
   "cell_type": "code",
   "execution_count": 25,
   "metadata": {},
   "outputs": [
    {
     "name": "stdout",
     "output_type": "stream",
     "text": [
      "CPU times: user 15 µs, sys: 7 µs, total: 22 µs\n",
      "Wall time: 22.9 µs\n"
     ]
    },
    {
     "data": {
      "text/plain": [
       "[1, 2, 2, 3, 4, 4, 5, 6]"
      ]
     },
     "execution_count": 25,
     "metadata": {},
     "output_type": "execute_result"
    }
   ],
   "source": [
    "A=[1,2,3,4]\n",
    "B=[2,4,5,6]\n",
    "%time mergeSortedArray(A, B)"
   ]
  },
  {
   "cell_type": "markdown",
   "metadata": {},
   "source": [
    "**Note**: 这里看, 我感觉python下实现两种方法并没有太大不同, 一个是从前面开始按从小到大比较排列, 一个是从后面开始按从大到小比较排列."
   ]
  },
  {
   "cell_type": "markdown",
   "metadata": {},
   "source": [
    "## 7. Serialize and Deserialize Binary Tree (Medium)\n",
    "\n",
    "**Description**\n",
    "\n",
    "Design an algorithm and write code to serialize and deserialize a binary tree. Writing the tree to a file is called 'serialization' and reading back from the file to reconstruct the exact same binary tree is 'deserialization'.\n",
    "\n",
    "ⓘ There is no limit of how you deserialize or serialize a binary tree, LintCode will take your output of serialize as the input of deserialize, it won't check the result of serialize.\n",
    "\n",
    "**Example**\n",
    "\n",
    "An example of testdata: Binary tree {3,9,20,#,#,15,7}, denote the following structure:\n",
    "\n",
    " $$\\begin{align}3  \\\\ \n",
    " \\diagup \\qquad \\diagdown \\end{align} \\\\ \n",
    " 9 \\qquad 20 \\\\ \n",
    " \\qquad \\qquad \\diagup \\qquad \\diagdown \\\\\n",
    " \\qquad \\qquad 15 \\qquad 7$$\n",
    " \n",
    "Our data serialization use bfs traversal. This is just for when you got wrong answer and want to debug the input.\n",
    "\n",
    "You can use other method to do serializaiton and deserialization.\n",
    "\n",
    "<u>**Solution**</u>\n",
    "\n",
    "序列化就是将一个数据结构或物体转化为一个位序列, 可以存进一个文件或者内存缓冲器中, 然后通过网络连接在相同或不同的电脑环境中被还原, 还原的过程叫做去序列化."
   ]
  },
  {
   "cell_type": "markdown",
   "metadata": {},
   "source": [
    "+ **方法1**: 先序遍历的递归解法. 简单易懂, 我们需要接入输入和输出字符串流istringstream和ostringstream, 对于序列化, 我们从根节点开始，如果节点存在, 则将值存入输出字符串流, 然后分别对其左右子节点递归调用序列化函数即可. 对于去序列化, 我们先读入第一个字符, 以此生成一个根节点, 然后再对根节点的左右子节点递归调用去序列化函数即可."
   ]
  },
  {
   "cell_type": "code",
   "execution_count": 26,
   "metadata": {
    "collapsed": true
   },
   "outputs": [],
   "source": [
    "# Definition of TreeNode\n",
    "class TreeNode:\n",
    "    def __init__(self, val):\n",
    "        self.val = val\n",
    "        self.left = None\n",
    "        self.right = None\n",
    "\n",
    "def serialize(root):\n",
    "    # Encodes a tree to a single string.\n",
    "    if root is None:\n",
    "        return ''\n",
    "    tree = [root]\n",
    "    s = []\n",
    "    while len(tree) > 0:\n",
    "        node = tree.pop(0)\n",
    "        if node is None:\n",
    "            s.append('#')\n",
    "        else:\n",
    "            s.append(str(node.val))\n",
    "            tree.append(node.left)\n",
    "            tree.append(node.right)\n",
    "    res = s\n",
    "    end = len(res) - 1\n",
    "    while True:\n",
    "        if res[end] == '#':\n",
    "            res = res[:-1]\n",
    "            end -= 1\n",
    "        else:\n",
    "            break\n",
    "    res = ','.join(res)\n",
    "    s = ','.join(s)\n",
    "    return res, s\n",
    "            \n",
    "def deserialize(data):\n",
    "    # Decodes your encoded data to tree.\n",
    "    s = data.split(',')\n",
    "    i = 0\n",
    "    if s[0] == '#':\n",
    "        return None\n",
    "    root = TreeNode(int(s[0]))\n",
    "    tree = [root]\n",
    "    \n",
    "    while len(tree) > 0:\n",
    "        node = tree.pop(0)\n",
    "        # 如果节点不是'#', 则计数器加2\n",
    "        i += 1\n",
    "        if s[i] != '#':\n",
    "            left = TreeNode(int(s[i]))\n",
    "            node.left = left\n",
    "            tree.append(left)\n",
    "        i += 1\n",
    "        if s[i] != '#':\n",
    "            right = TreeNode(int(s[i]))\n",
    "            node.right = right\n",
    "            tree.append(right)\n",
    "    return root"
   ]
  },
  {
   "cell_type": "code",
   "execution_count": 27,
   "metadata": {
    "collapsed": true
   },
   "outputs": [],
   "source": [
    "root = TreeNode(3)\n",
    "r_l = TreeNode(9)\n",
    "r_r = TreeNode(20)\n",
    "root.left = r_l\n",
    "root.right = r_r\n",
    "r_r_l = TreeNode(15)\n",
    "r_r_r = TreeNode(7)\n",
    "r_r.left = r_r_l\n",
    "r_r.right = r_r_r"
   ]
  },
  {
   "cell_type": "code",
   "execution_count": 28,
   "metadata": {},
   "outputs": [
    {
     "name": "stdout",
     "output_type": "stream",
     "text": [
      "CPU times: user 36 µs, sys: 9 µs, total: 45 µs\n",
      "Wall time: 41 µs\n",
      "3,9,20,#,#,15,7\n",
      "CPU times: user 59 µs, sys: 56 µs, total: 115 µs\n",
      "Wall time: 94.9 µs\n",
      "<__main__.TreeNode instance at 0x10fb65128>\n"
     ]
    }
   ],
   "source": [
    "%time result = serialize(root)\n",
    "res = result[0]\n",
    "data = result[1]\n",
    "print res\n",
    "%time root = deserialize(data)\n",
    "print root"
   ]
  },
  {
   "cell_type": "markdown",
   "metadata": {},
   "source": [
    "+ **方法2**: 层序遍历的非递归解法. 这种方法略微复杂一些, 我们需要借助queue来做, 本质是BFS算法, 也不是很难理解, 就是BFS算法的常规套路稍作修改即可."
   ]
  },
  {
   "cell_type": "code",
   "execution_count": 29,
   "metadata": {
    "collapsed": true
   },
   "outputs": [],
   "source": [
    "from Queue import Queue"
   ]
  },
  {
   "cell_type": "code",
   "execution_count": 30,
   "metadata": {
    "collapsed": true
   },
   "outputs": [],
   "source": [
    "# Definition of TreeNode\n",
    "class TreeNode:\n",
    "    def __init__(self, val):\n",
    "        self.val = val\n",
    "        self.left = None\n",
    "        self.right = None\n",
    "\n",
    "def serialize(root):\n",
    "    # Encodes a tree to a single string.\n",
    "    q = Queue()\n",
    "    if root is not None:\n",
    "        q.put(root)\n",
    "    s = []\n",
    "    while not q.empty():\n",
    "        node = q.get()\n",
    "        if node is None:\n",
    "            s.append('#')\n",
    "        else:\n",
    "            s.append(str(node.val))\n",
    "            q.put(node.left)\n",
    "            q.put(node.right)\n",
    "    res = s\n",
    "    end = len(res) - 1\n",
    "    while True:\n",
    "        if res[end] == '#':\n",
    "            res = res[:-1]\n",
    "            end -= 1\n",
    "        else:\n",
    "            break\n",
    "    res = ','.join(res)\n",
    "    s = ','.join(s)\n",
    "    return res, s\n",
    "            \n",
    "def deserialize(data):\n",
    "    # Decodes your encoded data to tree.\n",
    "    s = data.split(',')\n",
    "    i = 0\n",
    "    if s[0] == '#':\n",
    "        return None\n",
    "    root = TreeNode(int(s[0]))\n",
    "    q = Queue()\n",
    "    q.put(root)\n",
    "    # 使用队列循环节点, 然后有一个计数器, 如果节点不是'#', 则计数器加2\n",
    "    while q.qsize() > 0:\n",
    "        node = q.get()\n",
    "        i += 1\n",
    "        if s[i] != '#':\n",
    "            left = TreeNode(int(s[i]))\n",
    "            node.left = left\n",
    "            q.put(left)\n",
    "        i += 1\n",
    "        if s[i] != '#': \n",
    "            right = TreeNode(int(s[i]))\n",
    "            node.right = right \n",
    "            q.put(right) \n",
    "        return root "
   ]
  },
  {
   "cell_type": "code",
   "execution_count": 31,
   "metadata": {
    "collapsed": true
   },
   "outputs": [],
   "source": [
    "root = TreeNode(3)\n",
    "r_l = TreeNode(9)\n",
    "r_r = TreeNode(20)\n",
    "root.left = r_l\n",
    "root.right = r_r\n",
    "r_r_l = TreeNode(15)\n",
    "r_r_r = TreeNode(7)\n",
    "r_r.left = r_r_l\n",
    "r_r.right = r_r_r"
   ]
  },
  {
   "cell_type": "code",
   "execution_count": 32,
   "metadata": {},
   "outputs": [
    {
     "name": "stdout",
     "output_type": "stream",
     "text": [
      "CPU times: user 622 µs, sys: 497 µs, total: 1.12 ms\n",
      "Wall time: 638 µs\n",
      "3,9,20,#,#,15,7\n",
      "CPU times: user 232 µs, sys: 99 µs, total: 331 µs\n",
      "Wall time: 249 µs\n",
      "<__main__.TreeNode instance at 0x10f40d488>\n"
     ]
    }
   ],
   "source": [
    "%time result = serialize(root)\n",
    "res = result[0]\n",
    "data = result[1]\n",
    "print res\n",
    "%time root = deserialize(data)\n",
    "print root"
   ]
  },
  {
   "cell_type": "markdown",
   "metadata": {},
   "source": [
    "## 8. Rotate String (Easy)\n",
    "\n",
    "**Description**\n",
    "\n",
    "Given a string and an offset, rotate string by offset. (rotate from left to right)\n",
    "\n",
    "**Example**\n",
    "\n",
    "Given \"abcdefg\".\n",
    "\n",
    "offset=0 => \"abcdefg\"\n",
    "offset=1 => \"gabcdef\"\n",
    "offset=2 => \"fgabcde\"\n",
    "offset=3 => \"efgabcd\"\n",
    "\n",
    "**Challenge**\n",
    "\n",
    "Rotate in-place with O(1) extra memory.\n",
    "\n",
    "<u>**Solution**</u>"
   ]
  },
  {
   "cell_type": "markdown",
   "metadata": {},
   "source": [
    "+ **方法1**: 三步翻转法\n",
    "\n",
    "1 题目中传递的参数是string类型, 所以删除/插入元素比一般数组方便, 降低题目的难度, 但也需要知道string类的一些常用成员函数.\n",
    "\n",
    "2 思路很简单: 将末尾元素复制取出来插入到第一个元素前面, 然后删除末尾元素. 但这里有一个小技巧: 当str循环移动了自身长度次时, str恢复到未做任何移动的初始状态.\n",
    "\n",
    "例如: str = \"abc\", 此时str.length() = 3. 第一次移动后, str = \"cab\", 第二次移动后, str = \"bca\", 第三次移动后, str = \"abc\".\n",
    "\n",
    "3 对于输入参数异常的情况, 要在一开始就处理好."
   ]
  },
  {
   "cell_type": "code",
   "execution_count": 33,
   "metadata": {
    "collapsed": true
   },
   "outputs": [],
   "source": [
    "def rotateString(s, offset):\n",
    "    if s == '':\n",
    "        return ''\n",
    "    if offset == 0:\n",
    "        return s\n",
    "    for i in range(1, offset % len(s) + 1):\n",
    "        s = s[-1] + s[0:-1]\n",
    "    return s    "
   ]
  },
  {
   "cell_type": "code",
   "execution_count": 34,
   "metadata": {},
   "outputs": [
    {
     "name": "stdout",
     "output_type": "stream",
     "text": [
      "CPU times: user 10 µs, sys: 3 µs, total: 13 µs\n",
      "Wall time: 16.9 µs\n"
     ]
    },
    {
     "data": {
      "text/plain": [
       "'fgabcde'"
      ]
     },
     "execution_count": 34,
     "metadata": {},
     "output_type": "execute_result"
    }
   ],
   "source": [
    "s = 'abcdefg'\n",
    "offset = 2\n",
    "%time rotateString(s, offset)"
   ]
  },
  {
   "cell_type": "markdown",
   "metadata": {},
   "source": [
    "+ **方法2**: 两步翻转法"
   ]
  },
  {
   "cell_type": "code",
   "execution_count": 35,
   "metadata": {
    "collapsed": true
   },
   "outputs": [],
   "source": [
    "def reverse(s, start, end):\n",
    "    i = start\n",
    "    j = end\n",
    "    while i < j:\n",
    "        s = s[:i] + s[j] + s[i+1:j] + s[i] + s[j+1:]\n",
    "        i += 1\n",
    "        j -= 1\n",
    "    return s\n",
    "\n",
    "def rotateString(s, offset):\n",
    "    if s == '':\n",
    "        return s\n",
    "    offset = offset % len(s)\n",
    "    s = reverse(s, 0, len(s) - offset - 1)\n",
    "    s = reverse(s, len(s) - offset, len(s) - 1)\n",
    "    s = reverse(s, 0, len(s) - 1)\n",
    "    return s"
   ]
  },
  {
   "cell_type": "code",
   "execution_count": 36,
   "metadata": {},
   "outputs": [
    {
     "name": "stdout",
     "output_type": "stream",
     "text": [
      "CPU times: user 19 µs, sys: 4 µs, total: 23 µs\n",
      "Wall time: 23.8 µs\n"
     ]
    },
    {
     "data": {
      "text/plain": [
       "'fgabcde'"
      ]
     },
     "execution_count": 36,
     "metadata": {},
     "output_type": "execute_result"
    }
   ],
   "source": [
    "s = 'abcdefg'\n",
    "offset = 2\n",
    "%time rotateString(s, offset)"
   ]
  },
  {
   "cell_type": "markdown",
   "metadata": {},
   "source": [
    "## 9. Fizz Buzz (Easy)\n",
    "\n",
    "**Description**\n",
    "\n",
    "Given number n. Print number from 1 to n. But:\n",
    "\n",
    "when number is divided by 3, print \"fizz\".\n",
    "\n",
    "when number is divided by 5, print \"buzz\".\n",
    "\n",
    "when number is divided by both 3 and 5, print \"fizz buzz\".\n",
    "\n",
    "**Example**\n",
    "\n",
    "If n = 15, you should return:\n",
    "\n",
    "[\n",
    "\n",
    "  \"1\", \"2\", \"fizz\",\n",
    "  \n",
    "  \"4\", \"buzz\", \"fizz\",\n",
    "  \n",
    "  \"7\", \"8\", \"fizz\",\n",
    "  \n",
    "  \"buzz\", \"11\", \"fizz\",\n",
    "  \n",
    "  \"13\", \"14\", \"fizz buzz\"\n",
    "\n",
    "]\n",
    "\n",
    "**Challenge**\n",
    "\n",
    "Can you do it with only one if statement?\n",
    "\n",
    "<u>**Solution**</u>\n",
    "\n",
    "题目本身并不难，只是不知道什么才算只有一个if语句."
   ]
  },
  {
   "cell_type": "code",
   "execution_count": 37,
   "metadata": {
    "collapsed": true
   },
   "outputs": [],
   "source": [
    "def fizzBuzz(n):\n",
    "    while n < 1:\n",
    "        n = input(\"n should be larger than 0\")\n",
    "    res = []\n",
    "    for i in range(1, n + 1):\n",
    "        if i % 3 == 0 and i % 5 == 0:\n",
    "            res.append('fizz buzz')\n",
    "        elif i % 3 == 0:\n",
    "            res.append('fizz')\n",
    "        elif i % 5 == 0:\n",
    "            res.append('buzz')\n",
    "        else:\n",
    "            res.append(str(i))\n",
    "    return res"
   ]
  },
  {
   "cell_type": "code",
   "execution_count": 38,
   "metadata": {},
   "outputs": [
    {
     "name": "stdout",
     "output_type": "stream",
     "text": [
      "CPU times: user 27 µs, sys: 9 µs, total: 36 µs\n",
      "Wall time: 33.9 µs\n"
     ]
    },
    {
     "data": {
      "text/plain": [
       "['1',\n",
       " '2',\n",
       " 'fizz',\n",
       " '4',\n",
       " 'buzz',\n",
       " 'fizz',\n",
       " '7',\n",
       " '8',\n",
       " 'fizz',\n",
       " 'buzz',\n",
       " '11',\n",
       " 'fizz',\n",
       " '13',\n",
       " '14',\n",
       " 'fizz buzz']"
      ]
     },
     "execution_count": 38,
     "metadata": {},
     "output_type": "execute_result"
    }
   ],
   "source": [
    "%time fizzBuzz(15)"
   ]
  }
 ],
 "metadata": {
  "kernelspec": {
   "display_name": "Python 2",
   "language": "python",
   "name": "python2"
  },
  "language_info": {
   "codemirror_mode": {
    "name": "ipython",
    "version": 2
   },
   "file_extension": ".py",
   "mimetype": "text/x-python",
   "name": "python",
   "nbconvert_exporter": "python",
   "pygments_lexer": "ipython2",
   "version": "2.7.13"
  }
 },
 "nbformat": 4,
 "nbformat_minor": 2
}
