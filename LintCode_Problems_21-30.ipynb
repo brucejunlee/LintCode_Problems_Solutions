{
 "cells": [
  {
   "cell_type": "markdown",
   "metadata": {},
   "source": [
    "# [LintCode](https://www.lintcode.com/problem/) Problems"
   ]
  },
  {
   "cell_type": "markdown",
   "metadata": {},
   "source": [
    "## 22. Flatten List (Easy)\n",
    "\n",
    "**Description**\n",
    "\n",
    "Given a list, each element in the list can be a list or integer. flatten it into a simply list with integers.\n",
    "\n",
    "ⓘ If the element in the given list is a list, it can contain list too.\n",
    "\n",
    "**Example**\n",
    "\n",
    "Given [1, 2, [1, 2]], return [1, 2, 1, 2].\n",
    "\n",
    "Given [4, [3, [2, [1]]]], return [4, 3, 2, 1].\n",
    "\n",
    "**Challenge**\n",
    "\n",
    "Do it in non-recursive.\n",
    "\n",
    "<u>**Solution**</u>\n"
   ]
  },
  {
   "cell_type": "markdown",
   "metadata": {},
   "source": [
    "+ **方法1**: non-recursive version"
   ]
  },
  {
   "cell_type": "code",
   "execution_count": null,
   "metadata": {
    "collapsed": true
   },
   "outputs": [],
   "source": [
    "def flatten(nestedList):\n",
    "    flat = True\n",
    "    nl = nestedList\n",
    "    while flat:\n",
    "        flat = False\n",
    "        new_nl = []\n",
    "        for i in nl:\n",
    "            if type(i) == int:\n",
    "                new_nl.append(i)\n",
    "            else:\n",
    "                for i_j in i:\n",
    "                    new_nl.append(i_j)\n",
    "                    flat = True\n",
    "        nl = new_nl\n",
    "    return nl"
   ]
  },
  {
   "cell_type": "code",
   "execution_count": null,
   "metadata": {},
   "outputs": [],
   "source": [
    "nestedList = [1, 2, [1, 2]]\n",
    "%time nl1 = flatten(nestedList)\n",
    "print nl1\n",
    "nestedList = [4, [3, [2, [1]]]]\n",
    "%time nl2 = flatten(nestedList)\n",
    "print nl2"
   ]
  },
  {
   "cell_type": "markdown",
   "metadata": {},
   "source": [
    "+ **方法2**: recursive version"
   ]
  },
  {
   "cell_type": "code",
   "execution_count": null,
   "metadata": {
    "collapsed": true
   },
   "outputs": [],
   "source": [
    "def flatten(nestedList):\n",
    "    res = []\n",
    "    for i in nestedList:\n",
    "        if type(i) == int:\n",
    "            res.append(i)\n",
    "        else:\n",
    "            tmp = flatten(i)\n",
    "            for j in tmp:\n",
    "                res.append(j)\n",
    "    return res"
   ]
  },
  {
   "cell_type": "code",
   "execution_count": null,
   "metadata": {},
   "outputs": [],
   "source": [
    "nestedList = [1, 2, [1, 2]]\n",
    "%time nl1 = flatten(nestedList)\n",
    "print nl1\n",
    "nestedList = [4, [3, [2, [1]]]]\n",
    "%time nl2 = flatten(nestedList)\n",
    "print nl2"
   ]
  },
  {
   "cell_type": "markdown",
   "metadata": {},
   "source": [
    "## 24. LFU Cache (Hard)\n",
    "\n",
    "**Description**\n",
    "\n",
    "LFU (Least Frequently Used) is a famous cache eviction algorithm.\n",
    "\n",
    "For a cache with capacity k, if the cache is full and need to evict a key in it, the key with the least frequently used will be kicked out.\n",
    "\n",
    "Implement set and get method for LFU cache.\n",
    "\n",
    "**Example**\n",
    "\n",
    "Given capacity=3\n",
    "\n",
    "```\n",
    "set(2, 2)\n",
    "set(1, 1)\n",
    "get(2)\n",
    ">> 2\n",
    "get(1)\n",
    ">> 1\n",
    "get(2)\n",
    ">> 2\n",
    "set(3, 3)\n",
    "set(4, 4)\n",
    "get(3)\n",
    ">> -1\n",
    "get(2)\n",
    ">> 2\n",
    "get(1)\n",
    ">> 1\n",
    "get(4)\n",
    ">> 4\n",
    "```\n",
    "\n",
    "<u>**Solution**</u>\n",
    "\n",
    "+ LRU\n",
    "\n",
    "首先提一下**LRU(Least Recently Used)**, 即最近最少使用. 那么这个缓存器主要有两个成员函数, get和set, 其中get函数是通过输入key来获得value, 如果成功获得后, 这对(key, value)升至缓存器中最常用的位置(顶部), 如果key不存在, 则返回-1. 而set函数是插入一对新的(key, value), 如果原缓存器中有该key, 则需要先删除掉原有的, 将新的插入到缓存器的顶部. 如果不存在, 则直接插入到顶部. 若加入新的值后缓存器超过了容量, 则需要删掉一个最不常用的值, 也就是底部的值. 具体实现时我们需要三个私有变量, cap, l和m, 其中cap是缓存器的容量大小, l是保存缓存器内容的列表, m是哈希表, 保存关键值key和缓存器各项的迭代器之间映射, 方便我们以O(1)的时间内找到目标项. \n",
    "\n",
    "+ LFU\n",
    "\n",
    "这道题让我们实现最近不常用页面置换算法**LFU(Least Frequently Used)**, 而前面的**LRU Cache**, 让我们求最近最少使用页面置换算法LRU(Least Recnetly Used). 两种算法虽然名字看起来很相似, 但是其实是不同的. 顾名思义, LRU算法是首先淘汰最长时间未被使用的页面, 而LFU是先淘汰一定时间内被访问次数最少的页面. 举例说明, 比如说我们的cache大小为3, 然后我们按顺序存入5, 4, 5, 4, 5, 7, 这时候cache刚好被装满了, 因为put进去之前存在的数不会占用额外地方. 那么此时我们想再put进去一个8, 如果使用LRU算法, 应该将4删除, 因为4最久未被使用, 而如果使用LFU算法, 则应该删除7, 因为7被使用的次数最少, 只使用了一次.\n",
    "\n",
    "这道题比前面LRU要麻烦一些, 因为LRU只要用个list把数字按时间顺序存入, 链表底部的位置总是最久未被使用的, 每次删除底部的值即可. 而这道题不一样, 由于需要删除最少次数的数字, 那么我们必须要统计每一个key出现的次数, 所以我们用一个哈希表m来记录当前数据{key, value}和其出现次数之间的映射, 这样还不够, 为了方便操作, 我们需要把相同频率的key都放到一个list中, 那么需要另一个哈希表freq来建立频率和一个里面所有key都是当前频率的list之间的映射. 由于题目中要我们在O(1)的时间内完成操作了, 为了快速的定位freq中key的位置, 我们再用一个哈希表iter来建立key和freq中key的位置之间的映射. 最后当然我们还需要两个变量cap和minFreq, 分别来保存cache的大小, 和当前最小的频率."
   ]
  },
  {
   "cell_type": "code",
   "execution_count": 37,
   "metadata": {
    "collapsed": true
   },
   "outputs": [],
   "source": [
    "class KeyNode(object):\n",
    "    def __init__(self, key, value, freq = 1):\n",
    "        self.key = key\n",
    "        self.value = value\n",
    "        self.freq = freq\n",
    "        self.prev = self.next = None\n",
    "\n",
    "class FreqNode(object):\n",
    "    def __init__(self, freq, prev, next):\n",
    "        self.freq = freq\n",
    "        self.prev = prev\n",
    "        self.next = next\n",
    "        self.first = self.last = None\n",
    "\n",
    "class LFUCache(object):\n",
    "\n",
    "    def __init__(self, capacity):\n",
    "        \"\"\"\n",
    "        :type capacity: int\n",
    "        \"\"\"\n",
    "        self.capacity = capacity\n",
    "        self.keyDict = dict()\n",
    "        self.freqDict = dict()\n",
    "        self.head = None\n",
    "\n",
    "    def get(self, key):\n",
    "        \"\"\"\n",
    "        :type key: int\n",
    "        :rtype: int\n",
    "        \"\"\"\n",
    "        if key in self.keyDict:\n",
    "            keyNode = self.keyDict[key]\n",
    "            value = keyNode.value\n",
    "            self.increase(key, value)\n",
    "            return value\n",
    "        return -1\n",
    "\n",
    "    def set(self, key, value):\n",
    "        \"\"\"\n",
    "        :type key: int\n",
    "        :type value: int\n",
    "        :rtype: void\n",
    "        \"\"\"\n",
    "        if self.capacity == 0:\n",
    "            return\n",
    "        if key in self.keyDict:\n",
    "            self.increase(key, value)\n",
    "            return\n",
    "        if len(self.keyDict) == self.capacity:\n",
    "            self.removeKeyNode(self.head.last)\n",
    "        self.insertKeyNode(key, value)\n",
    "\n",
    "    def increase(self, key, value):\n",
    "        \"\"\"\n",
    "        Increments the freq of an existing KeyNode<key, value> by 1.\n",
    "        :type key: str\n",
    "        :rtype: void\n",
    "        \"\"\"\n",
    "        keyNode = self.keyDict[key]\n",
    "        keyNode.value = value\n",
    "        freqNode = self.freqDict[keyNode.freq]\n",
    "        nextFreqNode = freqNode.next\n",
    "        keyNode.freq += 1\n",
    "        if nextFreqNode is None or nextFreqNode.freq > keyNode.freq:\n",
    "            nextFreqNode = self.insertFreqNodeAfter(keyNode.freq, freqNode)\n",
    "        self.unlinkKey(keyNode, freqNode)\n",
    "        self.linkKey(keyNode, nextFreqNode)\n",
    "\n",
    "    def insertKeyNode(self, key, value):\n",
    "        \"\"\"\n",
    "        Inserts a new KeyNode<key, value> with freq 1.\n",
    "        :type key: str\n",
    "        :rtype: void\n",
    "        \"\"\"\n",
    "        keyNode = self.keyDict[key] = KeyNode(key, value)\n",
    "        freqNode = self.freqDict.get(1)\n",
    "        if freqNode is None:\n",
    "            freqNode = self.freqDict[1] = FreqNode(1, None, self.head)\n",
    "            if self.head:\n",
    "                self.head.prev = freqNode\n",
    "            self.head = freqNode\n",
    "        self.linkKey(keyNode, freqNode)\n",
    "\n",
    "    def delFreqNode(self, freqNode):\n",
    "        \"\"\"\n",
    "        Delete freqNode.\n",
    "        :rtype: void\n",
    "        \"\"\"\n",
    "        prev, next = freqNode.prev, freqNode.next\n",
    "        if prev: prev.next = next\n",
    "        if next: next.prev = prev\n",
    "        if self.head == freqNode: self.head = next\n",
    "        del self.freqDict[freqNode.freq]\n",
    "\n",
    "    def insertFreqNodeAfter(self, freq, node):\n",
    "        \"\"\"\n",
    "        Insert a new FreqNode(freq) after node.\n",
    "        :rtype: FreqNode\n",
    "        \"\"\"\n",
    "        newNode = FreqNode(freq, node, node.next)\n",
    "        self.freqDict[freq] = newNode\n",
    "        if node.next: node.next.prev = newNode\n",
    "        node.next = newNode\n",
    "        return newNode\n",
    "\n",
    "    def removeKeyNode(self, keyNode):\n",
    "        \"\"\"\n",
    "        Remove keyNode\n",
    "        :rtype: void\n",
    "        \"\"\"\n",
    "        self.unlinkKey(keyNode, self.freqDict[keyNode.freq])\n",
    "        del self.keyDict[keyNode.key]\n",
    "\n",
    "    def unlinkKey(self, keyNode, freqNode):\n",
    "        \"\"\"\n",
    "        Unlink keyNode from freqNode\n",
    "        :rtype: void\n",
    "        \"\"\"\n",
    "        next, prev = keyNode.next, keyNode.prev\n",
    "        if prev: prev.next = next\n",
    "        if next: next.prev = prev\n",
    "        if freqNode.first == keyNode: freqNode.first = next\n",
    "        if freqNode.last == keyNode: freqNode.last = prev\n",
    "        if freqNode.first is None: self.delFreqNode(freqNode)\n",
    "\n",
    "    def linkKey(self, keyNode, freqNode):\n",
    "        \"\"\"\n",
    "        Link keyNode to freqNode\n",
    "        :rtype: void\n",
    "        \"\"\"\n",
    "        firstKeyNode = freqNode.first\n",
    "        keyNode.prev = None\n",
    "        keyNode.next = firstKeyNode\n",
    "        if firstKeyNode: firstKeyNode.prev = keyNode\n",
    "        freqNode.first = keyNode\n",
    "        if freqNode.last is None: freqNode.last = keyNode"
   ]
  },
  {
   "cell_type": "code",
   "execution_count": 45,
   "metadata": {},
   "outputs": [
    {
     "name": "stdout",
     "output_type": "stream",
     "text": [
      "2\n",
      "1\n",
      "2\n",
      "-1\n",
      "2\n",
      "1\n",
      "4\n"
     ]
    }
   ],
   "source": [
    "capacity = 3\n",
    "obj = LFUCache(capacity)\n",
    "obj.set(2, 2)\n",
    "obj.set(1, 1)\n",
    "print obj.get(2)\n",
    "print obj.get(1)\n",
    "print obj.get(2)\n",
    "obj.set(3, 3)\n",
    "obj.set(4, 4)\n",
    "print obj.get(3)\n",
    "print obj.get(2)\n",
    "print obj.get(1)\n",
    "print obj.get(4)"
   ]
  },
  {
   "cell_type": "markdown",
   "metadata": {},
   "source": [
    "## 28. Search a 2D Matrix (Easy)\n",
    "\n",
    "**Description**\n",
    "\n",
    "Write an efficient algorithm that searches for a value in an m x n matrix.\n",
    "\n",
    "This matrix has the following properties:\n",
    "\n",
    "+ Integers in each row are sorted from left to right.\n",
    "+ The first integer of each row is greater than the last integer of the previous row.\n",
    "\n",
    "**Example**\n",
    "\n",
    "Consider the following matrix:\n",
    "\n",
    "```\n",
    "[\n",
    "    [1, 3, 5, 7],\n",
    "    [10, 11, 16, 20],\n",
    "    [23, 30, 34, 50]\n",
    "]\n",
    "```\n",
    "\n",
    "Given target = 3, return true.\n",
    "\n",
    "**Challenge**\n",
    "\n",
    "O(log(n) + log(m)) time\n",
    "\n",
    "<u>**Solution**</u>\n"
   ]
  },
  {
   "cell_type": "markdown",
   "metadata": {},
   "source": [
    "+ **方法1**: 两次二分查找\n",
    "\n",
    "对第0列使用二分查找(O(log(m))), 找到元素可能在的行. 再在该行使用二分查找(O(log(n)))."
   ]
  },
  {
   "cell_type": "code",
   "execution_count": null,
   "metadata": {
    "collapsed": true
   },
   "outputs": [],
   "source": [
    "import numpy as np"
   ]
  },
  {
   "cell_type": "code",
   "execution_count": null,
   "metadata": {
    "collapsed": true
   },
   "outputs": [],
   "source": [
    "def searchMatrix(matrix, target):\n",
    "    m = len(matrix)\n",
    "    n = len(matrix[0])\n",
    "    if m == 0 or n == 0:\n",
    "        return False\n",
    "    low = 0\n",
    "    high = m - 1\n",
    "    while low <= high:\n",
    "        mid = low + (high - low) / 2\n",
    "        if matrix[mid, 0] == target:\n",
    "            return True\n",
    "        elif matrix[mid, 0] < target:\n",
    "            low = mid + 1\n",
    "        else:\n",
    "            high = mid - 1\n",
    "    if high < 0:\n",
    "        return False\n",
    "    row = high\n",
    "    low = 0\n",
    "    high = n - 1\n",
    "    while low <= high:\n",
    "        mid = low + (high - low) / 2\n",
    "        if matrix[row, mid] == target:\n",
    "            return True\n",
    "        elif matrix[row, mid] < target:\n",
    "            low = mid + 1\n",
    "        else:\n",
    "            high = mid - 1\n",
    "    return False"
   ]
  },
  {
   "cell_type": "code",
   "execution_count": null,
   "metadata": {},
   "outputs": [],
   "source": [
    "matrix1 = np.array([[1, 3, 5, 7], [10, 11, 16, 20], [23, 30, 34, 50]], dtype=np.integer)\n",
    "target = 3\n",
    "%time searchMatrix(matrix1, target)"
   ]
  },
  {
   "cell_type": "markdown",
   "metadata": {
    "collapsed": true
   },
   "source": [
    "+ **方法2**: 一次二分查找\n",
    "\n",
    "如果我们按S型遍历该二维数组, 可以得到一个有序的一维数组, 那么我们只需要用一次二分查找法, 而关键就在于坐标的转换, 如何把二维坐标和一维坐标转换是关键点:\n",
    "\n",
    "把一个长度为L的一维数组转化为$m \\times n$的二维数组($m \\times n = L$)后,\n",
    "\n",
    "1. 原二维数组中下标为[i, j]的元素将出现在一维数组中下标为$i \\times (m + 1) + j$的位置;\n",
    "2. 原一维数组中下标为k的元素将出现在二维数组中下标为[k / n, k % n]的位置."
   ]
  },
  {
   "cell_type": "code",
   "execution_count": null,
   "metadata": {
    "collapsed": true
   },
   "outputs": [],
   "source": [
    "def searchMatrix(matrix, target):\n",
    "    m = len(matrix)\n",
    "    n = len(matrix[0])\n",
    "    if m == 0 or n == 0:\n",
    "        return False\n",
    "    if target < matrix[0, 0] or target > matrix[m - 1, n - 1]:\n",
    "        return False\n",
    "    left = 0\n",
    "    right = m * n - 1\n",
    "    while left <= right:\n",
    "        mid = left + (right - left) / 2\n",
    "        if matrix[mid / n, mid % n] == target:\n",
    "            return True\n",
    "        elif matrix[mid / n, mid % n] < target:\n",
    "            left = mid + 1\n",
    "        else:\n",
    "            right = mid - 1\n",
    "    return False"
   ]
  },
  {
   "cell_type": "code",
   "execution_count": null,
   "metadata": {},
   "outputs": [],
   "source": [
    "matrix1 = np.array([[1, 3, 5, 7], [10, 11, 16, 20], [23, 30, 34, 50]], dtype=np.integer)\n",
    "target = 3\n",
    "%time searchMatrix(matrix1, target)"
   ]
  },
  {
   "cell_type": "markdown",
   "metadata": {},
   "source": [
    "## 29. Interleaving String (Medium)\n",
    "\n",
    "**Description**\n",
    "\n",
    "Given three strings: s1, s2, s3, determine whether s3 is formed by the interleaving of s1 and s2.\n",
    "\n",
    "**Example**\n",
    "\n",
    "For s1 = \"aabcc\", s2 = \"dbbca\"\n",
    "\n",
    "When s3 = \"aadbbcbcac\", return true.\n",
    "\n",
    "When s3 = \"aadbbbaccc\", return false.\n",
    "\n",
    "**Challenge**\n",
    "\n",
    "O($n^2$) time or better\n",
    "\n",
    "<u>**Solution**</u>\n",
    "\n",
    "[Dynamical Programming](https://en.wikipedia.org/wiki/Dynamic_programming)"
   ]
  },
  {
   "cell_type": "markdown",
   "metadata": {},
   "source": [
    "+ **方法1**:\n",
    "\n",
    "首先, 这道题的大前提是字符串s1和s2的长度和必须等于s3的长度, 如果不等于, 肯定返回false. 那么当s1和s2是空串的时候, s3必然是空串, 则返回true. 所以直接给dp[0][0]赋值true, 然后若s1和s2其中的一个为空串的话, 那么另一个肯定和s3的长度相等, 则按位比较, 若相同且上一个位置为True, 赋True, 其余情况都赋False, 这样的二维数组dp的边缘就初始化好了. 下面只需要找出递推公式来更新整个数组即可, 我们发现, 在任意非边缘位置dp[i][j]时, 它的左边或上边有可能为True或是False, 两边都可以更新过来, 只要有一条路通着, 那么这个点就可以为True. 那么我们得分别来看, 如果左边的为True, 那么我们去除当前对应的s2中的字符串s2[j - 1] 和 s3中对应的位置的字符相比(计算对应位置时还要考虑已匹配的s1中的字符), 为s3[j - 1 + i], 如果相等, 则赋True, 反之赋False. 而上边为True的情况也类似, 所以可以求出递推公式为：\n",
    "\n",
    "$$dp[i][j] = (dp[i - 1][j] \\&\\& s1[i - 1] == s3[i - 1 + j]) || (dp[i][j - 1] \\&\\& s2[j - 1] == s3[j - 1 + i])$$\n",
    "\n",
    "其中dp[i][j] 表示的是 s2 的前 i 个字符和 s1 的前 j 个字符是否匹配 s3 的前 i+j 个字符."
   ]
  },
  {
   "cell_type": "code",
   "execution_count": null,
   "metadata": {},
   "outputs": [],
   "source": [
    "def isInterleave(s1, s2, s3):\n",
    "    n1 = len(s1)\n",
    "    n2 = len(s2)\n",
    "    if n1 + n2 != len(s3):\n",
    "        return False\n",
    "    dp = [[False for i in range(n1 + 1)] for j in range(n2 + 1)]\n",
    "    dp[0][0] = True\n",
    "    for i in range(1, n1 + 1):\n",
    "        dp[i][0] = dp[i - 1][0] and (s1[i - 1] == s3[i - 1])\n",
    "    for i in range(1, n2 + 1):\n",
    "        dp[0][i] = dp[0][i - 1] and (s2[i - 1] == s3[i - 1])\n",
    "    for i in range(1, n1 + 1):\n",
    "        for j in range(1, n2 + 1):\n",
    "            dp[i][j] = (dp[i - 1][j] and s1[i - 1] == s3[i - 1 + j]) or (dp[i][j - 1] and s2[j - 1] == s3[j - 1 + i])\n",
    "    return dp[n1][n2]"
   ]
  },
  {
   "cell_type": "code",
   "execution_count": null,
   "metadata": {},
   "outputs": [],
   "source": [
    "s1 = 'aabcc'\n",
    "s2 = 'dbbca'\n",
    "s3 = 'aadbbcbcac'\n",
    "%time dp = isInterleave(s1, s2, s3)\n",
    "print dp\n",
    "s3 = 'aadbbbaccc'\n",
    "%time dp = isInterleave(s1, s2, s3)\n",
    "print dp"
   ]
  },
  {
   "cell_type": "markdown",
   "metadata": {},
   "source": [
    "+ **方法2**: 简单改进\n",
    "\n",
    "我们也可以把for循环合并到一起, 用if条件来处理边界情况, 整体思路和上面的方法没有太大的区别."
   ]
  },
  {
   "cell_type": "code",
   "execution_count": null,
   "metadata": {
    "collapsed": true
   },
   "outputs": [],
   "source": [
    "def isInterleave(s1, s2, s3):\n",
    "    n1 = len(s1)\n",
    "    n2 = len(s2)\n",
    "    if n1 + n2 != len(s3):\n",
    "        return False\n",
    "    dp = [[False for i in range(n1 + 1)] for j in range(n2 + 1)]\n",
    "    for i in range(n1 + 1):\n",
    "        for j in range(n2 + 1):\n",
    "            if i == 0 and j == 0:\n",
    "                dp[i][j] = True\n",
    "            elif i == 0:\n",
    "                dp[i][j] = dp[i][j - 1] and (s2[j - 1] == s3[i + j - 1])\n",
    "            elif j == 0:\n",
    "                dp[i][j] = dp[i - 1][j] and (s1[i - 1] == s3[i + j - 1])\n",
    "            else:\n",
    "                dp[i][j] = (dp[i - 1][j] and s1[i - 1] == s3[i + j - 1]) or (dp[i][j - 1] and s2[j - 1] == s3[i + j -1])\n",
    "    return dp[n1][n2]"
   ]
  },
  {
   "cell_type": "code",
   "execution_count": null,
   "metadata": {},
   "outputs": [],
   "source": [
    "s1 = 'aabcc'\n",
    "s2 = 'dbbca'\n",
    "s3 = 'aadbbcbcac'\n",
    "%time dp = isInterleave(s1, s2, s3)\n",
    "print dp\n",
    "s3 = 'aadbbbaccc'\n",
    "%time dp = isInterleave(s1, s2, s3)\n",
    "print dp"
   ]
  },
  {
   "cell_type": "markdown",
   "metadata": {},
   "source": [
    "+ **方法3**: 优化的DFS\n",
    "\n",
    "我们使用一个哈希集合, 用来保存匹配失败的情况, 我们分别用变量i, j和k来记录字符串s1, s2和s3匹配到的位置, 初始化的时候都传入0. 在递归函数中, 首先根据i和j, 算出key值, 由于我们的哈希集合中只能放一个数字, 而我们要encode两个数字i和j, 所以通过用i乘以s3的长度再加上j来得到key, 此时我们看, 如果key已经在集合中, 直接返回false, 因为集合中存的是无法匹配的情况. 然后先来处理corner case的情况, 如果i等于s1的长度了, 说明s1的字符都匹配完了, 此时s2剩下的字符和s3剩下的字符可以直接进行匹配了, 所以我们直接返回两者是否能匹配的bool值. 同理, 如果j等于s2的长度了, 说明s2的字符都匹配完了, 此时s1剩下的字符和s3剩下的字符可以直接进行匹配了, 所以我们直接返回两者是否能匹配的bool值. 如果s1和s2都有剩余字符, 那么当s1的当前字符等于s3的当前字符, 那么调用递归函数, 注意i和k都加上1, 如果递归函数返回true, 则当前函数也返回true; 还有一种情况是, 当s2的当前字符等于s3的当前字符, 那么调用递归函数, 注意j和k都加上1, 如果递归函数返回true, 那么当前函数也返回true. 如果匹配失败了, 则将key加入集合中, 并返回false即可."
   ]
  },
  {
   "cell_type": "markdown",
   "metadata": {},
   "source": [
    "> 这里补充介绍集合:\n",
    "\n",
    "set是一个**无序**且**不重复**的元素集合.\n",
    "\n",
    "集合对象是一组无序排列的可哈希的值, 集合成员可以做字典中的键. 集合支持用in和not in操作符检查成员, 由len()内建函数得到集合的基数(大小), 用for循环迭代集合的成员. 但是因为集合本身是无序的, 不可以为集合创建索引或执行切片(slice)操作, 也没有键(keys)可用来获取集合中元素的值.\n",
    "\n",
    "set和dict一样, 只是没有value, 相当于dict的key集合, 由于dict的key是不重复的且key是不可变对象, 因此set也有如下特性:\n",
    "\n",
    "1. 不重复;\n",
    "2. 元素为不可变对象."
   ]
  },
  {
   "cell_type": "markdown",
   "metadata": {},
   "source": [
    "+ 集合创建"
   ]
  },
  {
   "cell_type": "code",
   "execution_count": null,
   "metadata": {},
   "outputs": [],
   "source": [
    "s = set()\n",
    "print s\n",
    "s = {11,22,33,44}                   #注意在创建空集合的时候只能使用s=set()，因为s={}创建的是空字典\n",
    "print s\n",
    "a = set('boy')\n",
    "b = set(['y', 'b', 'o', 'o'])\n",
    "c = set({\"k1\":'v1', 'k2':'v2'})\n",
    "d = {'k1', 'k2', 'k2'}\n",
    "e = {('k1', 'k2', 'k2')}\n",
    "print(a, type(a))\n",
    "print(b, type(b))\n",
    "print(c, type(c))\n",
    "print(d, type(d))\n",
    "print(e, type(e))"
   ]
  },
  {
   "cell_type": "markdown",
   "metadata": {},
   "source": [
    "+ 集合比较"
   ]
  },
  {
   "cell_type": "code",
   "execution_count": null,
   "metadata": {},
   "outputs": [],
   "source": [
    "se = {11, 22, 33}\n",
    "be = {22, 55}\n",
    "tmp1 = se.difference(be)           # 找到se中存在, be中不存在的集合, 返回新值\n",
    "print(tmp1)\n",
    "print(se)\n",
    "\n",
    "tmp2 = se.difference_update(be)    # 找到se中存在, be中不存在的集合, 覆盖掉se\n",
    "print(tmp2)\n",
    "print(se)"
   ]
  },
  {
   "cell_type": "markdown",
   "metadata": {},
   "source": [
    "+ 集合删除"
   ]
  },
  {
   "cell_type": "code",
   "execution_count": null,
   "metadata": {},
   "outputs": [],
   "source": [
    "se = {11, 22, 33}\n",
    "se.discard(11)\n",
    "se.discard(44)                     # 移除不存在的元素不会报错\n",
    "print(se)\n",
    "\n",
    "se = {11, 22, 33}\n",
    "se.remove(11)\n",
    "#se.remove(44)                     # 移除不存在的元素会报错\n",
    "print(se)\n",
    "\n",
    "se = {11, 22, 33}                  # 移除末尾元素并把移除的元素赋给新值\n",
    "tmp = se.pop()\n",
    "print(tmp)\n",
    "print(se)"
   ]
  },
  {
   "cell_type": "markdown",
   "metadata": {},
   "source": [
    "+ 交集"
   ]
  },
  {
   "cell_type": "code",
   "execution_count": null,
   "metadata": {},
   "outputs": [],
   "source": [
    "se = {11, 22, 33}\n",
    "be = {22, 55}\n",
    "\n",
    "tmp1 = se.intersection(be)         # 取交集，赋给新值\n",
    "print(tmp1)\n",
    "print(se)\n",
    "\n",
    "tmp2 = se.intersection_update(be)  # 取交集并更新自己\n",
    "print(tmp2)\n",
    "print(se)"
   ]
  },
  {
   "cell_type": "markdown",
   "metadata": {},
   "source": [
    "+ 集合判断"
   ]
  },
  {
   "cell_type": "code",
   "execution_count": null,
   "metadata": {},
   "outputs": [],
   "source": [
    "se = {11, 22, 33}\n",
    "be = {22}\n",
    "\n",
    "print(se.isdisjoint(be))           # 判断是否不存在交集(有交集False, 无交集True)\n",
    "print(se.issubset(be))             # 判断se是否是be的子集合\n",
    "print(se.issuperset(be))           # 判断se是否是be的父集合"
   ]
  },
  {
   "cell_type": "markdown",
   "metadata": {},
   "source": [
    "+ 集合合并"
   ]
  },
  {
   "cell_type": "code",
   "execution_count": null,
   "metadata": {},
   "outputs": [],
   "source": [
    "se = {11, 22, 33}\n",
    "be = {22}\n",
    "\n",
    "tmp1 = se.symmetric_difference(be) # 合并不同项, 并赋新值\n",
    "print(tmp1)\n",
    "print(se)\n",
    "\n",
    "tmp2 = se.symmetric_difference_update(be)  # 合并不同项, 并更新自己\n",
    "print(tmp2)\n",
    "print(se)"
   ]
  },
  {
   "cell_type": "markdown",
   "metadata": {},
   "source": [
    "+ 并集"
   ]
  },
  {
   "cell_type": "code",
   "execution_count": null,
   "metadata": {},
   "outputs": [],
   "source": [
    "se = {11, 22, 33}\n",
    "be = {22, 44, 55}\n",
    "\n",
    "tmp = se.union(be)                # 取并集, 并赋新值\n",
    "print(se)\n",
    "print(tmp)"
   ]
  },
  {
   "cell_type": "markdown",
   "metadata": {},
   "source": [
    "+ 集合更新"
   ]
  },
  {
   "cell_type": "code",
   "execution_count": null,
   "metadata": {},
   "outputs": [],
   "source": [
    "se = {11, 22, 33}\n",
    "be = {22, 44, 55}\n",
    "\n",
    "se.update(be)                    # 把se和be合并, 得出的值覆盖se\n",
    "print(se)\n",
    "se.update([66, 77])              # 可增加迭代项\n",
    "print(se)"
   ]
  },
  {
   "cell_type": "markdown",
   "metadata": {},
   "source": [
    "+ 集合转换"
   ]
  },
  {
   "cell_type": "code",
   "execution_count": null,
   "metadata": {},
   "outputs": [],
   "source": [
    "se = set(range(4))\n",
    "li = list(se)\n",
    "tu = tuple(se)\n",
    "st = str(se)\n",
    "print(se, type(se))\n",
    "print(li, type(li))\n",
    "print(tu, type(tu))\n",
    "print(st, type(st))"
   ]
  },
  {
   "cell_type": "code",
   "execution_count": null,
   "metadata": {},
   "outputs": [],
   "source": [
    "def helper(s1, i, s2, j, s3, k, s):\n",
    "    key = i * len(s3) + j\n",
    "    if key in s:\n",
    "        return False\n",
    "    if i == len(s1):\n",
    "        return s2[j:] == s3[k:]\n",
    "    if j == len(s2):\n",
    "        return s1[i:] == s3[k:]\n",
    "    if (s1[i] == s3[k] and helper(s1, i + 1, s2, j, s3, k + 1, s)) or (s2[j] == s3[k] and helper(s1, i, s2, j + 1, s3, k + 1, s)):\n",
    "        return True\n",
    "    s.update({key})\n",
    "    return False \n",
    "    \n",
    "def isInterleave(s1, s2, s3):\n",
    "    n1 = len(s1)\n",
    "    n2 = len(s2)\n",
    "    if n1 + n2 != len(s3):\n",
    "        return False\n",
    "    s = set()\n",
    "    return helper(s1, 0, s2, 0, s3, 0, s)"
   ]
  },
  {
   "cell_type": "code",
   "execution_count": null,
   "metadata": {},
   "outputs": [],
   "source": [
    "s1 = 'aabcc'\n",
    "s2 = 'dbbca'\n",
    "s3 = 'aadbbcbcac'\n",
    "%time dp = isInterleave(s1, s2, s3)\n",
    "print dp\n",
    "s3 = 'aadbbbaccc'\n",
    "%time dp = isInterleave(s1, s2, s3)\n",
    "print dp"
   ]
  },
  {
   "cell_type": "markdown",
   "metadata": {},
   "source": [
    "+ **方法4**: BFS\n",
    "\n",
    "这里我们需要用队列queue来辅助运算, 如果将**方法1**中的二维数组dp列出来的True/False图当作一个迷宫的话, 那么BFS的目的就是要从(0, 0)位置找一条都是True的路径通到(n1, n2)位置, 这里我们还要使用哈希集合, 不过此时保存到是已经遍历过的位置, 队列中还是存key值, key值的encode方法跟上面DFS解法的相同, 初始时放个0进去. 然后我们进行while循环, 循环条件除了q不为空, 还有一个是k小于n3, 因为匹配完s3中所有的字符就结束了. 然后由于是一层层的遍历, 所以要直接循环queue中元素个数的次数, 在for循环中, 对队首元素进行解码, 得到i和j值, 如果i小于n1, 说明s1还有剩余字符, 如果s1当前字符等于s3当前字符, 那么把s1的下一个位置i+1跟j一起加码算出key值, 如果该key值不在于集合中, 则加入集合, 同时加入队列queue中; 同理, 如果j小于n2, 说明s2还有剩余字符, 如果s2当前字符等于s3当前字符, 那么把s2的下一个位置j+1跟i一起编码算出key值, 如果该key值不在于集合中, 则加入集合, 同时加入队列queue中. for循环结束后, k自增1. 最后如果匹配成功的话, 那么queue中应该只有一个(n1, n2)的key值, 且k此时等于n3, 所以当queue为空或者k不等于n3的时候都要返回false."
   ]
  },
  {
   "cell_type": "code",
   "execution_count": 5,
   "metadata": {
    "collapsed": true
   },
   "outputs": [],
   "source": [
    "from Queue import Queue"
   ]
  },
  {
   "cell_type": "code",
   "execution_count": 15,
   "metadata": {
    "collapsed": true
   },
   "outputs": [],
   "source": [
    "def isInterleave(s1, s2, s3):\n",
    "    n1 = len(s1)\n",
    "    n2 = len(s2)\n",
    "    n3 = len(s3)\n",
    "    if n1 + n2 != n3:\n",
    "        return False\n",
    "    k = 0\n",
    "    s = set()\n",
    "    q = Queue()\n",
    "    q.put(0)\n",
    "    while q.empty() != True and k < n3:\n",
    "        len_q = q.qsize()\n",
    "        for t in range(len_q):\n",
    "            front = q.get()\n",
    "            i = front / n3\n",
    "            j = front % n3\n",
    "            if i < n1 and s1[i] == s3[k]:\n",
    "                key = (i + 1) * n3 + j\n",
    "                if key not in s:\n",
    "                    s.update({key})\n",
    "                    q.put(key)\n",
    "            if j < n2 and s2[j] == s3[k]:\n",
    "                key = i * n3 + j + 1\n",
    "                if key not in s:\n",
    "                    s.update({key})\n",
    "                    q.put(key)\n",
    "        k += 1\n",
    "    return q.empty() != True and k == n3"
   ]
  },
  {
   "cell_type": "code",
   "execution_count": 16,
   "metadata": {},
   "outputs": [
    {
     "name": "stdout",
     "output_type": "stream",
     "text": [
      "CPU times: user 872 µs, sys: 543 µs, total: 1.41 ms\n",
      "Wall time: 850 µs\n",
      "True\n",
      "CPU times: user 650 µs, sys: 617 µs, total: 1.27 ms\n",
      "Wall time: 922 µs\n",
      "False\n"
     ]
    }
   ],
   "source": [
    "s1 = 'aabcc'\n",
    "s2 = 'dbbca'\n",
    "s3 = 'aadbbcbcac'\n",
    "%time dp = isInterleave(s1, s2, s3)\n",
    "print dp\n",
    "s3 = 'aadbbbaccc'\n",
    "%time dp = isInterleave(s1, s2, s3)\n",
    "print dp"
   ]
  },
  {
   "cell_type": "markdown",
   "metadata": {},
   "source": [
    "## 30. Insert Interval (Easy)\n",
    "\n",
    "**Description**\n",
    "\n",
    "Given a non-overlapping interval list which is sorted by start point.\n",
    "\n",
    "Insert a new interval into it, make sure the list is still in order and non-overlapping (merge intervals if necessary).\n",
    "\n",
    "**Example**\n",
    "\n",
    "Insert (2, 5) into [(1, 2), (5, 9)], we get [(1, 9)].\n",
    "\n",
    "Insert (3, 4) into [(1, 2), (5, 9)], we get [(1, 2), (3, 4), (5, 9)].\n",
    "\n",
    "<u>**Solution**</u>\n",
    "\n",
    "用pos记录newInterval应该插入的位置. 顺序遍历intervals中的元素, 若当前interval的end比newInterval的start还小, 则将当前interval加入res, 同时pos＋1; 若比newInterval大, 则直接加入res; 若有overlap, 则需要merge, newInterval的start取两者间小的, end取两者间大的. 最后在pos的位置插入newInterval即可. "
   ]
  },
  {
   "cell_type": "code",
   "execution_count": null,
   "metadata": {
    "collapsed": true
   },
   "outputs": [],
   "source": [
    "class Interval(object):\n",
    "    def __init__(self, start, end):\n",
    "        self.start = start\n",
    "        self.end = end\n",
    "\n",
    "def insert(intervals, newInterval):\n",
    "    if newInterval == None or intervals == None:\n",
    "        return intervals\n",
    "    res = []\n",
    "    pos = 0\n",
    "    for interval in intervals:\n",
    "        if interval.end < newInterval.start:\n",
    "            res.append(interval)\n",
    "            pos += 1\n",
    "        elif interval.start > newInterval.end:\n",
    "            res.append(interval)\n",
    "        else:\n",
    "            newInterval.start = min(interval.start, newInterval.start)\n",
    "            newInterval.end = max(interval.end, newInterval.end)\n",
    "    res = res[:pos] + [newInterval] + res[pos :]\n",
    "    return res"
   ]
  },
  {
   "cell_type": "code",
   "execution_count": null,
   "metadata": {},
   "outputs": [],
   "source": [
    "intervals = [Interval(1, 2), Interval(5, 9)]\n",
    "newInterval = Interval(2, 5)\n",
    "%time res = insert(intervals, newInterval)\n",
    "for interval in res:\n",
    "    print \"(%d, %d)\" % (interval.start, interval.end)\n",
    "newInterval = Interval(3, 4)\n",
    "%time res = insert(intervals, newInterval)\n",
    "for interval in res:\n",
    "    print \"(%d, %d)\" % (interval.start, interval.end)"
   ]
  }
 ],
 "metadata": {
  "kernelspec": {
   "display_name": "Python 2",
   "language": "python",
   "name": "python2"
  },
  "language_info": {
   "codemirror_mode": {
    "name": "ipython",
    "version": 2
   },
   "file_extension": ".py",
   "mimetype": "text/x-python",
   "name": "python",
   "nbconvert_exporter": "python",
   "pygments_lexer": "ipython2",
   "version": "2.7.13"
  }
 },
 "nbformat": 4,
 "nbformat_minor": 2
}
